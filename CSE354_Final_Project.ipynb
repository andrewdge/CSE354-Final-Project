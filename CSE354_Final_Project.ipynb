{
  "nbformat": 4,
  "nbformat_minor": 0,
  "metadata": {
    "colab": {
      "name": "CSE354-Final-Project",
      "provenance": [],
      "collapsed_sections": [],
      "include_colab_link": true
    },
    "kernelspec": {
      "name": "python3",
      "display_name": "Python 3"
    },
    "language_info": {
      "name": "python"
    }
  },
  "cells": [
    {
      "cell_type": "markdown",
      "metadata": {
        "id": "view-in-github",
        "colab_type": "text"
      },
      "source": [
        "<a href=\"https://colab.research.google.com/github/andrewdge/CSE354-Final-Project/blob/main/CSE354_Final_Project.ipynb\" target=\"_parent\"><img src=\"https://colab.research.google.com/assets/colab-badge.svg\" alt=\"Open In Colab\"/></a>"
      ]
    },
    {
      "cell_type": "markdown",
      "source": [
        "#Document Level Predictions Using Paragraph Level Sentimient\n",
        "\n",
        "Using the PerSent dataset, we will be training our model based on paragraph-level sentiments. These will be aggregated to produce document-level sentiments."
      ],
      "metadata": {
        "id": "nYCWusp_kYrp"
      }
    },
    {
      "cell_type": "code",
      "source": [
        "!pip install transformers"
      ],
      "metadata": {
        "colab": {
          "base_uri": "https://localhost:8080/"
        },
        "id": "5fJI8Mw3pUBU",
        "outputId": "561111c7-fd2f-4e52-fec8-350f5d883c74"
      },
      "execution_count": 2,
      "outputs": [
        {
          "output_type": "stream",
          "name": "stdout",
          "text": [
            "Collecting transformers\n",
            "  Downloading transformers-4.18.0-py3-none-any.whl (4.0 MB)\n",
            "\u001b[K     |████████████████████████████████| 4.0 MB 3.8 MB/s \n",
            "\u001b[?25hRequirement already satisfied: tqdm>=4.27 in /usr/local/lib/python3.7/dist-packages (from transformers) (4.64.0)\n",
            "Requirement already satisfied: requests in /usr/local/lib/python3.7/dist-packages (from transformers) (2.23.0)\n",
            "Collecting tokenizers!=0.11.3,<0.13,>=0.11.1\n",
            "  Downloading tokenizers-0.12.1-cp37-cp37m-manylinux_2_12_x86_64.manylinux2010_x86_64.whl (6.6 MB)\n",
            "\u001b[K     |████████████████████████████████| 6.6 MB 36.3 MB/s \n",
            "\u001b[?25hRequirement already satisfied: importlib-metadata in /usr/local/lib/python3.7/dist-packages (from transformers) (4.11.3)\n",
            "Collecting huggingface-hub<1.0,>=0.1.0\n",
            "  Downloading huggingface_hub-0.5.1-py3-none-any.whl (77 kB)\n",
            "\u001b[K     |████████████████████████████████| 77 kB 3.3 MB/s \n",
            "\u001b[?25hCollecting sacremoses\n",
            "  Downloading sacremoses-0.0.53.tar.gz (880 kB)\n",
            "\u001b[K     |████████████████████████████████| 880 kB 44.4 MB/s \n",
            "\u001b[?25hRequirement already satisfied: filelock in /usr/local/lib/python3.7/dist-packages (from transformers) (3.6.0)\n",
            "Requirement already satisfied: packaging>=20.0 in /usr/local/lib/python3.7/dist-packages (from transformers) (21.3)\n",
            "Requirement already satisfied: numpy>=1.17 in /usr/local/lib/python3.7/dist-packages (from transformers) (1.21.6)\n",
            "Requirement already satisfied: regex!=2019.12.17 in /usr/local/lib/python3.7/dist-packages (from transformers) (2019.12.20)\n",
            "Collecting pyyaml>=5.1\n",
            "  Downloading PyYAML-6.0-cp37-cp37m-manylinux_2_5_x86_64.manylinux1_x86_64.manylinux_2_12_x86_64.manylinux2010_x86_64.whl (596 kB)\n",
            "\u001b[K     |████████████████████████████████| 596 kB 37.3 MB/s \n",
            "\u001b[?25hRequirement already satisfied: typing-extensions>=3.7.4.3 in /usr/local/lib/python3.7/dist-packages (from huggingface-hub<1.0,>=0.1.0->transformers) (4.2.0)\n",
            "Requirement already satisfied: pyparsing!=3.0.5,>=2.0.2 in /usr/local/lib/python3.7/dist-packages (from packaging>=20.0->transformers) (3.0.8)\n",
            "Requirement already satisfied: zipp>=0.5 in /usr/local/lib/python3.7/dist-packages (from importlib-metadata->transformers) (3.8.0)\n",
            "Requirement already satisfied: chardet<4,>=3.0.2 in /usr/local/lib/python3.7/dist-packages (from requests->transformers) (3.0.4)\n",
            "Requirement already satisfied: urllib3!=1.25.0,!=1.25.1,<1.26,>=1.21.1 in /usr/local/lib/python3.7/dist-packages (from requests->transformers) (1.24.3)\n",
            "Requirement already satisfied: certifi>=2017.4.17 in /usr/local/lib/python3.7/dist-packages (from requests->transformers) (2021.10.8)\n",
            "Requirement already satisfied: idna<3,>=2.5 in /usr/local/lib/python3.7/dist-packages (from requests->transformers) (2.10)\n",
            "Requirement already satisfied: six in /usr/local/lib/python3.7/dist-packages (from sacremoses->transformers) (1.15.0)\n",
            "Requirement already satisfied: click in /usr/local/lib/python3.7/dist-packages (from sacremoses->transformers) (7.1.2)\n",
            "Requirement already satisfied: joblib in /usr/local/lib/python3.7/dist-packages (from sacremoses->transformers) (1.1.0)\n",
            "Building wheels for collected packages: sacremoses\n",
            "  Building wheel for sacremoses (setup.py) ... \u001b[?25l\u001b[?25hdone\n",
            "  Created wheel for sacremoses: filename=sacremoses-0.0.53-py3-none-any.whl size=895260 sha256=d426718f6d98c4f1c0a60b4a0b67c711ce95635c02b1faa7abf3034fd5d72731\n",
            "  Stored in directory: /root/.cache/pip/wheels/87/39/dd/a83eeef36d0bf98e7a4d1933a4ad2d660295a40613079bafc9\n",
            "Successfully built sacremoses\n",
            "Installing collected packages: pyyaml, tokenizers, sacremoses, huggingface-hub, transformers\n",
            "  Attempting uninstall: pyyaml\n",
            "    Found existing installation: PyYAML 3.13\n",
            "    Uninstalling PyYAML-3.13:\n",
            "      Successfully uninstalled PyYAML-3.13\n",
            "Successfully installed huggingface-hub-0.5.1 pyyaml-6.0 sacremoses-0.0.53 tokenizers-0.12.1 transformers-4.18.0\n"
          ]
        }
      ]
    },
    {
      "cell_type": "code",
      "source": [
        "from google.colab import drive\n",
        "drive.mount('/content/drive')"
      ],
      "metadata": {
        "colab": {
          "base_uri": "https://localhost:8080/"
        },
        "id": "NOjAsvTqZZDr",
        "outputId": "d6b6106c-b50a-43d6-cebf-bd7487ba487b"
      },
      "execution_count": 3,
      "outputs": [
        {
          "output_type": "stream",
          "name": "stdout",
          "text": [
            "Mounted at /content/drive\n"
          ]
        }
      ]
    },
    {
      "cell_type": "code",
      "source": [
        "import torch\n",
        "import math\n",
        "import pandas as pd\n",
        "from sklearn.model_selection import train_test_split\n",
        "from torch.utils.data import Dataset, TensorDataset, DataLoader\n",
        "from torch.nn.utils.rnn import pad_sequence\n",
        "from tqdm import tqdm\n",
        "import numpy as np\n",
        "import os\n",
        "from sklearn.metrics import precision_score, recall_score, f1_score\n",
        "from transformers import DistilBertModel, DistilBertConfig, DistilBertTokenizer\n",
        "torch.manual_seed(42)\n",
        "np.random.seed(42)"
      ],
      "metadata": {
        "id": "yGIIM1h5ZhFE"
      },
      "execution_count": 6,
      "outputs": []
    },
    {
      "cell_type": "markdown",
      "source": [
        "# Constants\n",
        "\n",
        "Constants we will use in our experiments. These may be subjected to change as hyperparameters"
      ],
      "metadata": {
        "id": "9uTHVwwDku9W"
      }
    },
    {
      "cell_type": "code",
      "source": [
        "DISTILBERT_DROPOUT = 0.2\n",
        "DISTILBERT_ATT_DROPOUT = 0.2\n",
        "BATCH_SIZE = 16\n",
        "EPOCHS = 3\n",
        "\n",
        "# Andrew PATH\n",
        "TEST_PATH = '/content/drive/MyDrive/CSE354/random_test.csv'\n",
        "TRAIN_PATH = '/content/drive/MyDrive/CSE354/train.csv'\n",
        "\n",
        "test = pd.read_csv(TEST_PATH)\n",
        "train = pd.read_csv(TRAIN_PATH)\n",
        "\n"
      ],
      "metadata": {
        "id": "oYhi46KyZxsN"
      },
      "execution_count": 7,
      "outputs": []
    },
    {
      "cell_type": "markdown",
      "source": [
        "# Initializing Our Model\n",
        "\n",
        "Here is where we set up our DistilBERT model."
      ],
      "metadata": {
        "id": "0Hf2lT68k_OO"
      }
    },
    {
      "cell_type": "code",
      "source": [
        "class DistillBERT():\n",
        "  def __init__(self):\n",
        "    # TODO(students): start\n",
        "    self.tokenizer = DistilBertTokenizer.from_pretrained(\"distilbert-base-uncased\")\n",
        "    config = DistilBertConfig(dropout=DISTILBERT_DROPOUT, \n",
        "                          attention_dropout=DISTILBERT_ATT_DROPOUT, \n",
        "                          output_hidden_states=True)\n",
        "    model = DistilBertModel.from_pretrained(\"distilbert-base-uncased\", config=config)\n",
        "    # TODO(students): end\n",
        "  def get_tokenizer_and_model(self):\n",
        "    return self.model, self.tokenizer"
      ],
      "metadata": {
        "id": "Cpbl98iflGa_"
      },
      "execution_count": 8,
      "outputs": []
    },
    {
      "cell_type": "markdown",
      "source": [
        "# DataLoader\n",
        "\n",
        "This class handles loading, preprocessing, and tokenizing the data.\n",
        "\n",
        "Each row in the dataframe contains text with some number of paragraphs, as well as a number as labels per paragraph. We add another column in the dataframe, paragraphs per document. This will be used later to test our predictions as compare paragraph-level predictions to paragraph labels, as well as document-level predictions to document labels. We also remove data without paragraph-level labels.\n",
        "\n",
        "For the labels create new columns for each.\n",
        "\n",
        "This format is largely takes inspiration from Assignment 3."
      ],
      "metadata": {
        "id": "HERiN5iOljPB"
      }
    },
    {
      "cell_type": "code",
      "source": [
        "class DatasetLoader(Dataset):\n",
        "  def __init__(self, data, tokenizer):\n",
        "    # Data is the uncleaned data, as a dataframe.\n",
        "    self.data = data\n",
        "    self.tokenizer = tokenizer\n",
        "\n",
        "  def preprocess_data(self):\n",
        "    # Combine labels into list.\n",
        "    df = self.data\n",
        "    df = df[df['Paragraph0'].notna()]\n",
        "    df['Paragraph Labels'] = df.iloc[:, 6:].values.tolist() #Includes Nans, remove them\n",
        "    self.data = df\n",
        "\n",
        "  def tokenize_data(self):\n",
        "    # Tokenizing\n",
        "    tokens = []\n",
        "    labels = []\n",
        "    label_dict = {'Negative': 0,\n",
        "                  'Neutral': 1,\n",
        "                  'Positive': 2}\n",
        "    document_list = self.data['DOCUMENT']\n",
        "    label_list = self.data['Paragraph Labels']\n",
        "\n",
        "    for (document, labels) in tqdm(zip(document_list, label_list), total=len(document_list)):\n",
        "      paragraphs = document.split('\\n')\n",
        "      for paragraph, label in zip(paragraphs, labels):\n",
        "        encoding = self.tokenizer(text=paragraph, truncation='longest_first', max_length=512, return_tensors='pt')\n",
        "        labels.append(label)\n",
        "        tokens.append(encoding.input_ids[0]) # Might need to CUDA\n",
        "    \n",
        "    tokens = pad_sequence(tokens, batch_first=True)\n",
        "    labels = torch.tensor(labels)\n",
        "    labels.to(\"cuda:0\" if torch.cuda.is_available() else \"cpu\")\n",
        "    tokens.to(\"cuda:0\" if torch.cuda.is_available() else \"cpu\")\n",
        "    dataset = TensorDataset(tokens, labels)\n",
        "    return dataset\n",
        "\n",
        "  def get_data_loaders(self, shuffle=True):\n",
        "    processed_dataset = self.tokenize_data()\n",
        "    data_loader = DataLoader(\n",
        "        processed_dataset,\n",
        "        shuffle=shuffle,\n",
        "        batch_size=BATCH_SIZE\n",
        "    )\n",
        "    return data_loader"
      ],
      "metadata": {
        "id": "swG9HzFSlil8"
      },
      "execution_count": 9,
      "outputs": []
    },
    {
      "cell_type": "code",
      "source": [
        "p = (train['DOCUMENT'].values[0])\n",
        "x = p.split('\\n')\n",
        "print(len(x))\n"
      ],
      "metadata": {
        "colab": {
          "base_uri": "https://localhost:8080/"
        },
        "id": "KSrZkYDcpi9R",
        "outputId": "9d9d0ed9-9f93-4655-f68e-123d2cb56571"
      },
      "execution_count": null,
      "outputs": [
        {
          "output_type": "stream",
          "name": "stdout",
          "text": [
            "5\n"
          ]
        }
      ]
    },
    {
      "cell_type": "code",
      "source": [
        "class Trainer():\n",
        "\n",
        "  def __init__(self, args):\n",
        "    self.train_data = args['train_data']\n",
        "    self.val_data = args['val_data']\n",
        "    self.batch_size = args['batch_size']\n",
        "    self.epochs = args['epochs']\n",
        "    self.save_path = args['save_path']\n",
        "    transformer = DistillBERT()\n",
        "    self.model, self.tokenizer = transformer.get_tokenizer_and_model()\n",
        "    self.model.to(self.device)\n",
        "\n",
        "  def get_performance_metrics(self, preds, labels):\n",
        "    pred_flat = np.argmax(preds, axis=1).flatten()\n",
        "    labels_flat = labels.flatten()\n",
        "    precision = precision_score(labels_flat, pred_flat, zero_division=0)\n",
        "    recall = recall_score(labels_flat, pred_flat, zero_division=0)\n",
        "    f1 = f1_score(labels_flat, pred_flat, zero_division=0)\n",
        "    return precision, recall, f1\n",
        "\n",
        "  def set_training_parameters(self):\n",
        "    # TODO(students): start\n",
        "    layers = []\n",
        "    for name, param in self.model.named_parameters(): # get layers\n",
        "        if \"distilbert.transformer.layer\" in name:\n",
        "          # print(f'{name},  {param.requires_grad}')\n",
        "          layers.append(name)\n",
        "    \n",
        "    # print('--------------------------------\\n\\n\\n')\n",
        "\n",
        "\n",
        "    tt = self.training_type\n",
        "    if tt == \"frozen_embeddings\":\n",
        "      for name, param in self.model.named_parameters(): # get layers\n",
        "        if \"distilbert.embeddings\" in name:\n",
        "          self.model.get_parameter(name).requires_grad = False\n",
        "    elif tt == \"top_2_training\":\n",
        "      exclude = ['layer.4', 'layer.5']\n",
        "      for i in range(len(layers)):\n",
        "        for j in range(len(exclude)):\n",
        "          if exclude[j] not in layers[i]:\n",
        "            self.model.get_parameter(layers[i]).requires_grad = False\n",
        "    elif tt == \"top_4_training\":\n",
        "      include = ['layer.0', 'layer.1']\n",
        "      for i in range(len(layers)):\n",
        "        for j in range(len(include)):\n",
        "          if include[j] in layers[i]:\n",
        "            self.model.get_parameter(layers[i]).requires_grad = False\n",
        "    else: # all training\n",
        "      pass # since all layers are trained, do nothing\n",
        "\n",
        "    # for name, param in self.model.named_parameters(): # get layers\n",
        "    #     print(f'{name},  {param.requires_grad}')\n",
        "          \n",
        "    # TODO(students): end\n",
        "\n",
        "  def train(self, data_loader, optimizer):\n",
        "    self.model.train()\n",
        "    total_recall = 0\n",
        "    total_precision = 0\n",
        "    total_f1 = 0\n",
        "    total_loss = 0\n",
        "\n",
        "    for batch_idx, (reviews, labels) in enumerate(tqdm(data_loader)):\n",
        "      self.model.zero_grad()\n",
        "      # TODO(students): start\n",
        "      output = self.model(reviews.to(self.device), labels=labels.to(self.device)) \n",
        "      with torch.no_grad():\n",
        "        prec, rec, f1 = self.get_performance_metrics(output.logits.cpu(), labels.cpu())\n",
        "      output.loss.backward()\n",
        "      optimizer.step()\n",
        "      total_recall += rec\n",
        "      total_precision += prec\n",
        "      total_f1 += f1\n",
        "      total_loss += output.loss\n",
        "      # TODO(students): end\n",
        "\n",
        "    precision = total_precision/len(data_loader)\n",
        "    recall = total_recall/len(data_loader)\n",
        "    f1 = total_f1/len(data_loader)\n",
        "    loss = total_loss/len(data_loader)\n",
        "\n",
        "    return precision, recall, f1, loss\n",
        "\n",
        "  def eval(self, data_loader):\n",
        "    self.model.eval()\n",
        "    total_recall = 0\n",
        "    total_precision = 0\n",
        "    total_f1 = 0\n",
        "    total_loss = 0\n",
        "\n",
        "    with torch.no_grad():\n",
        "      for (reviews, labels) in tqdm(data_loader):\n",
        "        # TODO(students): start\n",
        "        output = self.model(reviews.to(self.device), labels=labels.to(self.device)) \n",
        "        prec, rec, f1 = self.get_performance_metrics(output.logits.cpu(), labels.cpu())\n",
        "        total_recall += rec\n",
        "        total_precision += prec\n",
        "        total_f1 += f1\n",
        "        total_loss += output.loss\n",
        "\n",
        "        # TODO(students): end\n",
        "    \n",
        "    precision = total_precision/len(data_loader)\n",
        "    recall = total_recall/len(data_loader)\n",
        "    f1 = total_f1/len(data_loader)\n",
        "    loss = total_loss/len(data_loader)\n",
        "\n",
        "    return precision, recall, f1, loss\n",
        "\n",
        "  def save_transformer(self):\n",
        "    self.model.save_pretrained(self.save_path)\n",
        "    self.tokenizer.save_pretrained(self.save_path)\n",
        "\n",
        "  def execute(self):\n",
        "    last_best = 0\n",
        "    train_dataset = DatasetLoader(self.train_data, self.tokenizer)\n",
        "    train_data_loader = train_dataset.get_data_loaders(self.batch_size)\n",
        "    val_dataset = DatasetLoader(self.val_data, self.tokenizer)\n",
        "    val_data_loader = val_dataset.get_data_loaders(self.batch_size)\n",
        "    optimizer = AdamW(self.model.parameters(), lr = 3e-5, eps = 1e-8)\n",
        "    self.set_training_parameters()\n",
        "    for epoch_i in range(0, self.epochs):\n",
        "      train_precision, train_recall, train_f1, train_loss = self.train(train_data_loader, optimizer)\n",
        "      print(f'Epoch {epoch_i + 1}: train_loss: {train_loss:.4f} train_precision: {train_precision:.4f} train_recall: {train_recall:.4f} train_f1: {train_f1:.4f}')\n",
        "      val_precision, val_recall, val_f1, val_loss = self.eval(val_data_loader)\n",
        "      print(f'Epoch {epoch_i + 1}: val_loss: {val_loss:.4f} val_precision: {val_precision:.4f} val_recall: {val_recall:.4f} val_f1: {val_f1:.4f}')\n",
        "\n",
        "      if val_f1 > last_best:\n",
        "        print(\"Saving model..\")\n",
        "        # self.save_transformer()\n",
        "        last_best = val_f1\n",
        "        print(\"Model saved.\")"
      ],
      "metadata": {
        "id": "HhkSbKNLTrfD"
      },
      "execution_count": 10,
      "outputs": []
    }
  ]
}