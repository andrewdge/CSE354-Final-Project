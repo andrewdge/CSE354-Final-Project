{
  "nbformat": 4,
  "nbformat_minor": 0,
  "metadata": {
    "colab": {
      "name": "CSE354-Final-Project",
      "provenance": [],
      "collapsed_sections": [],
      "include_colab_link": true
    },
    "kernelspec": {
      "name": "python3",
      "display_name": "Python 3"
    },
    "language_info": {
      "name": "python"
    },
    "accelerator": "GPU"
  },
  "cells": [
    {
      "cell_type": "markdown",
      "metadata": {
        "id": "view-in-github",
        "colab_type": "text"
      },
      "source": [
        "<a href=\"https://colab.research.google.com/github/andrewdge/CSE354-Final-Project/blob/main/CSE354_Final_Project.ipynb\" target=\"_parent\"><img src=\"https://colab.research.google.com/assets/colab-badge.svg\" alt=\"Open In Colab\"/></a>"
      ]
    },
    {
      "cell_type": "markdown",
      "source": [
        "#Document Level Predictions Using Paragraph Level Sentimient\n",
        "\n",
        "Using the PerSent dataset, we will be training our model based on paragraph-level sentiments. These will be aggregated to produce document-level sentiments."
      ],
      "metadata": {
        "id": "nYCWusp_kYrp"
      }
    },
    {
      "cell_type": "code",
      "source": [
        "!pip install transformers"
      ],
      "metadata": {
        "colab": {
          "base_uri": "https://localhost:8080/"
        },
        "id": "5fJI8Mw3pUBU",
        "outputId": "235bd102-40d3-4b22-e640-b88312bd2c2a"
      },
      "execution_count": 1,
      "outputs": [
        {
          "output_type": "stream",
          "name": "stdout",
          "text": [
            "Collecting transformers\n",
            "  Downloading transformers-4.18.0-py3-none-any.whl (4.0 MB)\n",
            "\u001b[K     |████████████████████████████████| 4.0 MB 7.0 MB/s \n",
            "\u001b[?25hCollecting sacremoses\n",
            "  Downloading sacremoses-0.0.53.tar.gz (880 kB)\n",
            "\u001b[K     |████████████████████████████████| 880 kB 48.8 MB/s \n",
            "\u001b[?25hCollecting huggingface-hub<1.0,>=0.1.0\n",
            "  Downloading huggingface_hub-0.5.1-py3-none-any.whl (77 kB)\n",
            "\u001b[K     |████████████████████████████████| 77 kB 3.3 MB/s \n",
            "\u001b[?25hRequirement already satisfied: requests in /usr/local/lib/python3.7/dist-packages (from transformers) (2.23.0)\n",
            "Requirement already satisfied: packaging>=20.0 in /usr/local/lib/python3.7/dist-packages (from transformers) (21.3)\n",
            "Requirement already satisfied: importlib-metadata in /usr/local/lib/python3.7/dist-packages (from transformers) (4.11.3)\n",
            "Collecting pyyaml>=5.1\n",
            "  Downloading PyYAML-6.0-cp37-cp37m-manylinux_2_5_x86_64.manylinux1_x86_64.manylinux_2_12_x86_64.manylinux2010_x86_64.whl (596 kB)\n",
            "\u001b[K     |████████████████████████████████| 596 kB 48.5 MB/s \n",
            "\u001b[?25hRequirement already satisfied: numpy>=1.17 in /usr/local/lib/python3.7/dist-packages (from transformers) (1.21.6)\n",
            "Requirement already satisfied: regex!=2019.12.17 in /usr/local/lib/python3.7/dist-packages (from transformers) (2019.12.20)\n",
            "Requirement already satisfied: tqdm>=4.27 in /usr/local/lib/python3.7/dist-packages (from transformers) (4.64.0)\n",
            "Collecting tokenizers!=0.11.3,<0.13,>=0.11.1\n",
            "  Downloading tokenizers-0.12.1-cp37-cp37m-manylinux_2_12_x86_64.manylinux2010_x86_64.whl (6.6 MB)\n",
            "\u001b[K     |████████████████████████████████| 6.6 MB 15.6 MB/s \n",
            "\u001b[?25hRequirement already satisfied: filelock in /usr/local/lib/python3.7/dist-packages (from transformers) (3.6.0)\n",
            "Requirement already satisfied: typing-extensions>=3.7.4.3 in /usr/local/lib/python3.7/dist-packages (from huggingface-hub<1.0,>=0.1.0->transformers) (4.2.0)\n",
            "Requirement already satisfied: pyparsing!=3.0.5,>=2.0.2 in /usr/local/lib/python3.7/dist-packages (from packaging>=20.0->transformers) (3.0.8)\n",
            "Requirement already satisfied: zipp>=0.5 in /usr/local/lib/python3.7/dist-packages (from importlib-metadata->transformers) (3.8.0)\n",
            "Requirement already satisfied: idna<3,>=2.5 in /usr/local/lib/python3.7/dist-packages (from requests->transformers) (2.10)\n",
            "Requirement already satisfied: urllib3!=1.25.0,!=1.25.1,<1.26,>=1.21.1 in /usr/local/lib/python3.7/dist-packages (from requests->transformers) (1.24.3)\n",
            "Requirement already satisfied: chardet<4,>=3.0.2 in /usr/local/lib/python3.7/dist-packages (from requests->transformers) (3.0.4)\n",
            "Requirement already satisfied: certifi>=2017.4.17 in /usr/local/lib/python3.7/dist-packages (from requests->transformers) (2021.10.8)\n",
            "Requirement already satisfied: six in /usr/local/lib/python3.7/dist-packages (from sacremoses->transformers) (1.15.0)\n",
            "Requirement already satisfied: click in /usr/local/lib/python3.7/dist-packages (from sacremoses->transformers) (7.1.2)\n",
            "Requirement already satisfied: joblib in /usr/local/lib/python3.7/dist-packages (from sacremoses->transformers) (1.1.0)\n",
            "Building wheels for collected packages: sacremoses\n",
            "  Building wheel for sacremoses (setup.py) ... \u001b[?25l\u001b[?25hdone\n",
            "  Created wheel for sacremoses: filename=sacremoses-0.0.53-py3-none-any.whl size=895260 sha256=a7558ded8ed695ee04a6f208b9dfe137811faead089cff668baa7c95468f7818\n",
            "  Stored in directory: /root/.cache/pip/wheels/87/39/dd/a83eeef36d0bf98e7a4d1933a4ad2d660295a40613079bafc9\n",
            "Successfully built sacremoses\n",
            "Installing collected packages: pyyaml, tokenizers, sacremoses, huggingface-hub, transformers\n",
            "  Attempting uninstall: pyyaml\n",
            "    Found existing installation: PyYAML 3.13\n",
            "    Uninstalling PyYAML-3.13:\n",
            "      Successfully uninstalled PyYAML-3.13\n",
            "Successfully installed huggingface-hub-0.5.1 pyyaml-6.0 sacremoses-0.0.53 tokenizers-0.12.1 transformers-4.18.0\n"
          ]
        }
      ]
    },
    {
      "cell_type": "code",
      "source": [
        "from google.colab import drive\n",
        "drive.mount('/content/drive')"
      ],
      "metadata": {
        "colab": {
          "base_uri": "https://localhost:8080/"
        },
        "id": "NOjAsvTqZZDr",
        "outputId": "e0b56b52-c6d9-4cff-8a74-4e983da1f588"
      },
      "execution_count": 2,
      "outputs": [
        {
          "output_type": "stream",
          "name": "stdout",
          "text": [
            "Mounted at /content/drive\n"
          ]
        }
      ]
    },
    {
      "cell_type": "code",
      "source": [
        "import torch\n",
        "import math\n",
        "import pandas as pd\n",
        "from sklearn.model_selection import train_test_split\n",
        "from torch.utils.data import Dataset, TensorDataset, DataLoader, random_split\n",
        "from torch.nn.utils.rnn import pad_sequence\n",
        "from tqdm import tqdm\n",
        "import numpy as np\n",
        "import os\n",
        "from sklearn.metrics import precision_score, recall_score, f1_score\n",
        "from transformers import DistilBertModel, DistilBertConfig, DistilBertTokenizer, AdamW, DistilBertForSequenceClassification\n",
        "from collections import Counter\n",
        "torch.manual_seed(42)\n",
        "np.random.seed(42)"
      ],
      "metadata": {
        "id": "yGIIM1h5ZhFE"
      },
      "execution_count": 3,
      "outputs": []
    },
    {
      "cell_type": "markdown",
      "source": [
        "# Constants\n",
        "\n",
        "Constants we will use in our experiments. These may be subjected to change as hyperparameters"
      ],
      "metadata": {
        "id": "9uTHVwwDku9W"
      }
    },
    {
      "cell_type": "code",
      "source": [
        "DISTILBERT_DROPOUT = 0.2\n",
        "DISTILBERT_ATT_DROPOUT = 0.2\n",
        "BATCH_SIZE = 16\n",
        "EPOCHS = 10\n",
        "\n",
        "# Andrew PATH\n",
        "TEST_PATH = '/content/drive/MyDrive/CSE354/random_test.csv'\n",
        "TRAIN_PATH = '/content/drive/MyDrive/CSE354/train.csv'\n",
        "VAL_PATH = '/content/drive/MyDrive/CSE354/dev.csv'\n",
        "SAVE_PATH = '/content/drive/MyDrive/CSE354/models'\n",
        "\n",
        "test_data = pd.read_csv(TEST_PATH)\n",
        "train_data = pd.read_csv(TRAIN_PATH)\n",
        "# fixed_test will be used for validation\n",
        "val_data = pd.read_csv(VAL_PATH)\n",
        "\n"
      ],
      "metadata": {
        "id": "oYhi46KyZxsN"
      },
      "execution_count": 10,
      "outputs": []
    },
    {
      "cell_type": "markdown",
      "source": [
        "# Initializing Our Model\n",
        "\n",
        "Here is where we set up our DistilBERT model."
      ],
      "metadata": {
        "id": "0Hf2lT68k_OO"
      }
    },
    {
      "cell_type": "code",
      "source": [
        "class DistillBERT():\n",
        "  def __init__(self):\n",
        "    # TODO(students): start\n",
        "    self.tokenizer = DistilBertTokenizer.from_pretrained(\"distilbert-base-uncased\")\n",
        "    config = DistilBertConfig(dropout=DISTILBERT_DROPOUT, \n",
        "                          attention_dropout=DISTILBERT_ATT_DROPOUT, \n",
        "                          output_hidden_states=True)\n",
        "    self.model = DistilBertForSequenceClassification.from_pretrained(\"distilbert-base-uncased\", num_labels=3)\n",
        "    # TODO(students): end\n",
        "  def get_tokenizer_and_model(self):\n",
        "    return self.model, self.tokenizer"
      ],
      "metadata": {
        "id": "Cpbl98iflGa_"
      },
      "execution_count": 5,
      "outputs": []
    },
    {
      "cell_type": "markdown",
      "source": [
        "# DataLoader\n",
        "\n",
        "This class handles loading, preprocessing, and tokenizing the data.\n",
        "\n",
        "Each row in the dataframe contains text with some number of paragraphs, as well as a number as labels per paragraph. We add another column in the dataframe, paragraphs per document. This will be used later to test our predictions as compare paragraph-level predictions to paragraph labels, as well as document-level predictions to document labels. We also remove data without paragraph-level labels.\n",
        "\n",
        "For the labels create new columns for each.\n",
        "\n",
        "This format is largely takes inspiration from Assignment 3."
      ],
      "metadata": {
        "id": "HERiN5iOljPB"
      }
    },
    {
      "cell_type": "code",
      "source": [
        "class DatasetLoader(Dataset):\n",
        "  def __init__(self, data, tokenizer):\n",
        "    # Data is the uncleaned data, as a dataframe.\n",
        "    self.data = data\n",
        "    self.tokenizer = tokenizer\n",
        "\n",
        "  def preprocess_data(self):\n",
        "    # Combine labels into list.\n",
        "    df = self.data\n",
        "    df = df[df['Paragraph0'].notna()]\n",
        "    cols = df.iloc[:, 6:].columns\n",
        "    df['Paragraph Labels'] = [[x for x in ary if x==x] for ary in df.iloc[:,6:].to_records(index=False)]\n",
        "    \n",
        "    self.data = df\n",
        "\n",
        "  def tokenize_data(self, mode=\"paragraph\"):\n",
        "    # Tokenizing\n",
        "    tokens = []\n",
        "    labels = []\n",
        "    label_dict = {'Negative': 0,\n",
        "                  'Neutral': 1,\n",
        "                  'Positive': 2}\n",
        "    document_list = self.data['DOCUMENT']\n",
        "\n",
        "    # Tokenizes documents by paragraphs. Tokens = paragraph, labels = paragraph sentiment\n",
        "    if mode == \"paragraph\":\n",
        "      label_list = self.data['Paragraph Labels']\n",
        "      for (document, doc_labels) in tqdm(zip(document_list, label_list), total=len(document_list)):\n",
        "        paragraphs = document.split('\\n')\n",
        "        for paragraph, label in zip(paragraphs, doc_labels):\n",
        "          encoding = self.tokenizer(text=paragraph, truncation='longest_first', max_length=512, return_tensors='pt')\n",
        "          labels.append(label_dict[label])\n",
        "          tokens.append(encoding.input_ids[0]) # Might need to CUDA\n",
        "\n",
        "    # Tokenizes documents by document. Tokens = document, labels = document sentiment\n",
        "    if mode == \"document\":\n",
        "      label_list = self.data['TRUE_SENTIMENT']\n",
        "      for (document, true_label) in tqdm(zip(document_list, label_list), total=len(document_list)):\n",
        "        encoding = self.tokenizer(text=paragraph, truncation='longest_first', max_length=512, return_tensors='pt')\n",
        "        labels.append(label_dict[label])\n",
        "        tokens.append(encoding.input_ids[0]) # Might need to CUDA\n",
        "    \n",
        "    tokens = pad_sequence(tokens, batch_first=True)\n",
        "    labels = torch.tensor(labels)\n",
        "    labels.to(\"cuda:0\" if torch.cuda.is_available() else \"cpu\")\n",
        "    tokens.to(\"cuda:0\" if torch.cuda.is_available() else \"cpu\")\n",
        "    dataset = TensorDataset(tokens, labels)\n",
        "    return dataset\n",
        "\n",
        "  def get_data_loaders(self, shuffle=True):\n",
        "    self.preprocess_data()\n",
        "    processed_dataset = self.tokenize_data()\n",
        "    data_loader = DataLoader(\n",
        "        processed_dataset,\n",
        "        shuffle=shuffle,\n",
        "        batch_size=BATCH_SIZE\n",
        "    )\n",
        "    return data_loader"
      ],
      "metadata": {
        "id": "swG9HzFSlil8"
      },
      "execution_count": 6,
      "outputs": []
    },
    {
      "cell_type": "code",
      "source": [
        "class Trainer():\n",
        "\n",
        "  def __init__(self, args):\n",
        "    self.train_data = args['train_data']\n",
        "    self.val_data = args['val_data']\n",
        "    self.batch_size = args['batch_size']\n",
        "    self.epochs = args['epochs']\n",
        "    self.save_path = args['save_path']\n",
        "    self.training_type = args['training_type']\n",
        "    self.device = args['device']\n",
        "    transformer = DistillBERT()\n",
        "    self.model, self.tokenizer = transformer.get_tokenizer_and_model()\n",
        "    self.model.to(self.device)\n",
        "    self.val_preds = []\n",
        "    self.train_preds = []\n",
        "\n",
        "  def get_performance_metrics(self, preds, labels, mode=None):\n",
        "    pred_flat = preds\n",
        "    # First portion from training preds, second from val preds\n",
        "    if mode == \"training\":\n",
        "      pred_flat = np.argmax(preds, axis=1).flatten()\n",
        "      self.train_preds.extend(pred_flat)\n",
        "    if mode == \"val\":\n",
        "      pred_flat = np.argmax(preds, axis=1).flatten()\n",
        "      self.val_preds.extend(pred_flat)\n",
        "    labels_flat = labels.flatten()\n",
        "    precision = precision_score(labels_flat, pred_flat, zero_division=0, average='macro')\n",
        "    recall = recall_score(labels_flat, pred_flat, zero_division=0, average='macro')\n",
        "    f1 = f1_score(labels_flat, pred_flat, zero_division=0, average='macro')\n",
        "    return precision, recall, f1\n",
        "\n",
        "  def set_training_parameters(self):\n",
        "    \n",
        "    if self.training_type == 'frozen_layers':\n",
        "      for name, param in self.model.named_parameters(): \n",
        "          # print(f'{name},  {param.requires_grad}')\n",
        "          if \"distilbert.\" in name:\n",
        "            self.model.get_parameter(name).requires_grad = False\n",
        "    elif self.training_type == 'all_training':\n",
        "      pass\n",
        "\n",
        "  def train(self, data_loader, optimizer):\n",
        "    self.model.train()\n",
        "    total_recall = 0\n",
        "    total_precision = 0\n",
        "    total_f1 = 0\n",
        "    total_loss = 0\n",
        "\n",
        "    for batch_idx, (reviews, labels) in enumerate(tqdm(data_loader)):\n",
        "      self.model.zero_grad()\n",
        "      # TODO(students): start\n",
        "      output = self.model(reviews.to(self.device), labels=labels.to(self.device)) \n",
        "      loss = output.loss\n",
        "      logits = output.logits\n",
        "      with torch.no_grad():\n",
        "        precision, recall, f1 = self.get_performance_metrics(logits.cpu(), labels.cpu(), mode='training')\n",
        "      loss.backward()\n",
        "      optimizer.step()\n",
        "      total_loss += loss\n",
        "      total_recall += recall\n",
        "      total_precision += precision\n",
        "      total_f1 += f1\n",
        "      # TODO(students): end\n",
        "    precision = total_precision/len(data_loader)\n",
        "    recall = total_recall/len(data_loader)\n",
        "    f1 = total_f1/len(data_loader)\n",
        "    loss = total_loss/len(data_loader)\n",
        "\n",
        "    return precision, recall, f1, loss\n",
        "\n",
        "  def eval(self, data_loader):\n",
        "    self.model.eval()\n",
        "    total_recall = 0\n",
        "    total_precision = 0\n",
        "    total_f1 = 0\n",
        "    total_loss = 0\n",
        "\n",
        "    with torch.no_grad():\n",
        "      for (reviews, labels) in tqdm(data_loader):\n",
        "        # TODO(students): start\n",
        "        output = self.model(reviews.to(self.device), labels=labels.to(self.device)) \n",
        "        prec, rec, f1 = self.get_performance_metrics(output.logits.cpu(), labels.cpu(), mode='val')\n",
        "        total_recall += rec\n",
        "        total_precision += prec\n",
        "        total_f1 += f1\n",
        "        total_loss += output.loss\n",
        "        # TODO(students): end\n",
        "    \n",
        "    precision = total_precision/len(data_loader)\n",
        "    recall = total_recall/len(data_loader)\n",
        "    f1 = total_f1/len(data_loader)\n",
        "    loss = total_loss/len(data_loader)\n",
        "\n",
        "    return precision, recall, f1, loss\n",
        "  \n",
        "  def eval_doc(self, dataset, mode):\n",
        "    # Predictions per paragraph\n",
        "    preds = []\n",
        "    index = 0\n",
        "    if mode == \"training\":\n",
        "      preds = self.train_preds\n",
        "    if mode == \"val\":\n",
        "      preds = self.val_preds\n",
        "    df = dataset.data\n",
        "    \n",
        "    doc_preds = []\n",
        "  \n",
        "    label_dict = {'Negative': 0,\n",
        "                  'Neutral': 1,\n",
        "                  'Positive': 2}\n",
        "    df = df.replace({'TRUE_SENTIMENT': label_dict})\n",
        "    doc_labels = df['TRUE_SENTIMENT'].values\n",
        "    # For each document, check the number of predicted labels corresponding with its paragraphs.\n",
        "    for idx, doc in df.iterrows():\n",
        "      true_sentiment = doc['TRUE_SENTIMENT']\n",
        "      p_labels = doc['Paragraph Labels']\n",
        "      doc_paragraph_preds = []\n",
        "      # For the number of paragraphs (denoted by p_labels) per document, append the prediction list for that document\n",
        "      # based on the entire list of paragraph predictions, preds.\n",
        "      for i in range(len(p_labels)):\n",
        "        doc_paragraph_preds.append(preds[index])\n",
        "        index += 1\n",
        "      # Find the most common and append that to the document predictions.\n",
        "      c = Counter(doc_paragraph_preds)\n",
        "      doc_preds.append(c.most_common(1)[0][0])\n",
        "    self.train_preds = []\n",
        "    self.val_preds = []\n",
        "    return self.get_performance_metrics(doc_preds, doc_labels)\n",
        "    \n",
        "\n",
        "  def save_transformer(self):\n",
        "    self.model.save_pretrained(self.save_path)\n",
        "    self.tokenizer.save_pretrained(self.save_path)\n",
        "\n",
        "  def execute(self):\n",
        "    last_best = 0\n",
        "    train_dataset = DatasetLoader(self.train_data, self.tokenizer)\n",
        "    train_data_loader = train_dataset.get_data_loaders(self.batch_size)\n",
        "    val_dataset = DatasetLoader(self.val_data, self.tokenizer)\n",
        "    val_data_loader = val_dataset.get_data_loaders(self.batch_size)\n",
        "    optimizer = AdamW(self.model.parameters(), lr = 3e-5, eps = 1e-8)\n",
        "    self.set_training_parameters()\n",
        "    for epoch_i in range(0, self.epochs):\n",
        "      train_precision, train_recall, train_f1, train_loss = self.train(train_data_loader, optimizer)\n",
        "      print(f'Epoch {epoch_i + 1}: train_loss: {train_loss:.4f} train_precision: {train_precision:.4f} train_recall: {train_recall:.4f} train_f1: {train_f1:.4f}')\n",
        "      doc_precision, doc_recall, doc_f1 = self.eval_doc(train_dataset, mode='training')\n",
        "  \n",
        "      print(f'doc_precision: {doc_precision:.4f} doc_recall: {doc_recall:.4f}, doc_f1: {doc_f1:.4f}')\n",
        "      val_precision, val_recall, val_f1, val_loss = self.eval(val_data_loader)\n",
        "      print(f'Epoch {epoch_i + 1}: val_loss: {val_loss:.4f} val_precision: {val_precision:.4f} val_recall: {val_recall:.4f} val_f1: {val_f1:.4f}')\n",
        "      if val_f1 > last_best:\n",
        "        print(\"Saving model..\")\n",
        "        self.save_transformer()\n",
        "        last_best = val_f1\n",
        "        print(\"Model saved.\")"
      ],
      "metadata": {
        "id": "HhkSbKNLTrfD"
      },
      "execution_count": 9,
      "outputs": []
    },
    {
      "cell_type": "code",
      "source": [
        "import os\n",
        "import gc\n",
        "gc.collect()\n",
        "torch.cuda.empty_cache()\n",
        "os.environ['CUDA_LAUNCH_BLOCKING'] = \"1\"\n",
        "args = {}\n",
        "args['batch_size'] = BATCH_SIZE\n",
        "args['device'] = torch.device(\"cuda:0\" if torch.cuda.is_available() else \"cpu\")\n",
        "args['train_data'] = train_data\n",
        "args['val_data'] = val_data\n",
        "args['save_path'] = SAVE_PATH + '_frozen_layers'\n",
        "args['epochs'] = EPOCHS\n",
        "args['training_type'] = 'frozen_layers'\n",
        "print(args['device'])\n",
        "CUDA_LAUNCH_BLOCKING=1\n",
        "trainer = Trainer(args)\n",
        "\n",
        "trainer.execute()"
      ],
      "metadata": {
        "id": "2Vj2RQ4s2XoM"
      },
      "execution_count": null,
      "outputs": []
    },
    {
      "cell_type": "markdown",
      "source": [
        "# DO NOT DELETE\n",
        "##Training all layer results:\n",
        "Epoch 3: train_loss: 0.9514 train_precision: 0.2719 train_recall: 0.3635 train_f1: 0.2743\n",
        "100%|██████████| 261/261 [01:09<00:00,  3.77it/s]Epoch 3: val_loss: 0.9390 val_precision: 0.1770 val_recall: 0.3678 val_f1: 0.2352\n",
        "\n",
        "##Freeze all distilbert layer results:\n",
        "Epoch 3: train_loss: 0.9435 train_precision: 0.3501 train_recall: 0.3875 train_f1: 0.3319\n",
        "100%|██████████| 261/261 [01:09<00:00,  3.75it/s]Epoch 3: val_loss: 0.9261 val_precision: 0.3844 val_recall: 0.3959 val_f1: 0.3225"
      ],
      "metadata": {
        "id": "IirZz-NerCBB"
      }
    },
    {
      "cell_type": "markdown",
      "source": [
        "Epoch 1: train_loss: 0.9513 train_precision: 0.3261 train_recall: 0.3733 train_f1: 0.3087 doc_precision: 0.6308 doc_recall: 0.3310, doc_f1: 0.3075 Epoch 1: val_loss: 0.9316 val_precision: 0.3729 val_recall: 0.3908 val_f1: 0.3188\n",
        "\n",
        "Epoch 2: train_loss: 0.9456 train_precision: 0.3440 train_recall: 0.3835 train_f1: 0.3220 doc_precision: 0.3053 doc_recall: 0.3372, doc_f1: 0.3078 Epoch 2: val_loss: 0.9278 val_precision: 0.3724 val_recall: 0.4010 val_f1: 0.3212\n",
        "\n",
        "Epoch 3: train_loss: 0.9432 train_precision: 0.3471 train_recall: 0.3865 train_f1: 0.3273 doc_precision: 0.3018 doc_recall: 0.3336, doc_f1: 0.3045 Epoch 3: val_loss: 0.9265 val_precision: 0.3145 val_recall: 0.3879 val_f1: 0.2858\n",
        "\n",
        "Epoch 4: train_loss: 0.9399 train_precision: 0.3622 train_recall: 0.3959 train_f1: 0.3464 doc_precision: 0.3029 doc_recall: 0.3356, doc_f1: 0.3081 Epoch 4: val_loss: 0.9235 val_precision: 0.3910 val_recall: 0.4288 val_f1: 0.3953\n",
        "\n",
        "Epoch 5: train_loss: 0.9370 train_precision: 0.3673 train_recall: 0.3980 train_f1: 0.3474 doc_precision: 0.3069 doc_recall: 0.3393, doc_f1: 0.3140 Epoch 5: val_loss: 0.9217 val_precision: 0.3146 val_recall: 0.3831 val_f1: 0.2809\n",
        "\n",
        "Epoch 6: train_loss: 0.9347 train_precision: 0.3644 train_recall: 0.3979 train_f1: 0.3500 doc_precision: 0.2899 doc_recall: 0.3205, doc_f1: 0.2948 Epoch 6: val_loss: 0.9172 val_precision: 0.4016 val_recall: 0.4262 val_f1: 0.3956\n",
        "\n",
        "Epoch 7: train_loss: 0.9322 train_precision: 0.3700 train_recall: 0.4008 train_f1: 0.3540 doc_precision: 0.2979 doc_recall: 0.3290, doc_f1: 0.3045 Epoch 7: val_loss: 0.9140 val_precision: 0.4108 val_recall: 0.4226 val_f1: 0.3786\n",
        "\n",
        "Epoch 8: train_loss: 0.9312 train_precision: 0.3744 train_recall: 0.4081 train_f1: 0.3634 doc_precision: 0.2976 doc_recall: 0.3284, doc_f1: 0.3051 Epoch 8: val_loss: 0.9131 val_precision: 0.3956 val_recall: 0.4297 val_f1: 0.3977\n",
        "\n",
        "Epoch 9: train_loss: 0.9290 train_precision: 0.3731 train_recall: 0.4035 train_f1: 0.3634 doc_precision: 0.3120 doc_recall: 0.3440, doc_f1: 0.3203 Epoch 9: val_loss: 0.9129 val_precision: 0.3957 val_recall: 0.4343 val_f1: 0.4003\n",
        "\n",
        "Epoch 10: train_loss: 0.9277 train_precision: 0.3765 train_recall: 0.4070 train_f1: 0.3639 doc_precision: 0.3053 doc_recall: 0.3372, doc_f1: 0.3125 Epoch 10: val_loss: 0.9108 val_precision: 0.3964 val_recall: 0.4372 val_f1: 0.4031\n",
        "\n",
        "Underfitting when getting paragraph-level sentiments and aggregating results for the document-level task. \n",
        "\n",
        "Try different method: aggregating paragraph-level sentimeents and training against those for the document-level task"
      ],
      "metadata": {
        "id": "4eE78GfDpdIl"
      }
    }
  ]
}