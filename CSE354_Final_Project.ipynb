{
  "nbformat": 4,
  "nbformat_minor": 0,
  "metadata": {
    "colab": {
      "name": "CSE354-Final-Project",
      "provenance": [],
      "collapsed_sections": [],
      "include_colab_link": true
    },
    "kernelspec": {
      "name": "python3",
      "display_name": "Python 3"
    },
    "language_info": {
      "name": "python"
    },
    "accelerator": "GPU"
  },
  "cells": [
    {
      "cell_type": "markdown",
      "metadata": {
        "id": "view-in-github",
        "colab_type": "text"
      },
      "source": [
        "<a href=\"https://colab.research.google.com/github/andrewdge/CSE354-Final-Project/blob/doc_agg/CSE354_Final_Project.ipynb\" target=\"_parent\"><img src=\"https://colab.research.google.com/assets/colab-badge.svg\" alt=\"Open In Colab\"/></a>"
      ]
    },
    {
      "cell_type": "markdown",
      "source": [
        "#Document Level Predictions Using Paragraph Level Sentimient\n",
        "\n",
        "Using the PerSent dataset, we will be training our model based on paragraph-level sentiments. These will be aggregated to produce document-level sentiments."
      ],
      "metadata": {
        "id": "nYCWusp_kYrp"
      }
    },
    {
      "cell_type": "code",
      "source": [
        "!pip install transformers"
      ],
      "metadata": {
        "colab": {
          "base_uri": "https://localhost:8080/"
        },
        "id": "5fJI8Mw3pUBU",
        "outputId": "fc3ed5bc-5bf6-4ee8-efb1-d332857e82c6"
      },
      "execution_count": 2,
      "outputs": [
        {
          "output_type": "stream",
          "name": "stdout",
          "text": [
            "Collecting transformers\n",
            "  Downloading transformers-4.18.0-py3-none-any.whl (4.0 MB)\n",
            "\u001b[K     |████████████████████████████████| 4.0 MB 27.1 MB/s \n",
            "\u001b[?25hRequirement already satisfied: numpy>=1.17 in /usr/local/lib/python3.7/dist-packages (from transformers) (1.21.6)\n",
            "Collecting tokenizers!=0.11.3,<0.13,>=0.11.1\n",
            "  Downloading tokenizers-0.12.1-cp37-cp37m-manylinux_2_12_x86_64.manylinux2010_x86_64.whl (6.6 MB)\n",
            "\u001b[K     |████████████████████████████████| 6.6 MB 54.7 MB/s \n",
            "\u001b[?25hRequirement already satisfied: packaging>=20.0 in /usr/local/lib/python3.7/dist-packages (from transformers) (21.3)\n",
            "Collecting pyyaml>=5.1\n",
            "  Downloading PyYAML-6.0-cp37-cp37m-manylinux_2_5_x86_64.manylinux1_x86_64.manylinux_2_12_x86_64.manylinux2010_x86_64.whl (596 kB)\n",
            "\u001b[K     |████████████████████████████████| 596 kB 61.1 MB/s \n",
            "\u001b[?25hRequirement already satisfied: requests in /usr/local/lib/python3.7/dist-packages (from transformers) (2.23.0)\n",
            "Requirement already satisfied: regex!=2019.12.17 in /usr/local/lib/python3.7/dist-packages (from transformers) (2019.12.20)\n",
            "Requirement already satisfied: tqdm>=4.27 in /usr/local/lib/python3.7/dist-packages (from transformers) (4.64.0)\n",
            "Requirement already satisfied: filelock in /usr/local/lib/python3.7/dist-packages (from transformers) (3.6.0)\n",
            "Requirement already satisfied: importlib-metadata in /usr/local/lib/python3.7/dist-packages (from transformers) (4.11.3)\n",
            "Collecting huggingface-hub<1.0,>=0.1.0\n",
            "  Downloading huggingface_hub-0.6.0-py3-none-any.whl (84 kB)\n",
            "\u001b[K     |████████████████████████████████| 84 kB 4.5 MB/s \n",
            "\u001b[?25hCollecting sacremoses\n",
            "  Downloading sacremoses-0.0.53.tar.gz (880 kB)\n",
            "\u001b[K     |████████████████████████████████| 880 kB 72.4 MB/s \n",
            "\u001b[?25hRequirement already satisfied: typing-extensions>=3.7.4.3 in /usr/local/lib/python3.7/dist-packages (from huggingface-hub<1.0,>=0.1.0->transformers) (4.2.0)\n",
            "Requirement already satisfied: pyparsing!=3.0.5,>=2.0.2 in /usr/local/lib/python3.7/dist-packages (from packaging>=20.0->transformers) (3.0.8)\n",
            "Requirement already satisfied: zipp>=0.5 in /usr/local/lib/python3.7/dist-packages (from importlib-metadata->transformers) (3.8.0)\n",
            "Requirement already satisfied: certifi>=2017.4.17 in /usr/local/lib/python3.7/dist-packages (from requests->transformers) (2021.10.8)\n",
            "Requirement already satisfied: urllib3!=1.25.0,!=1.25.1,<1.26,>=1.21.1 in /usr/local/lib/python3.7/dist-packages (from requests->transformers) (1.24.3)\n",
            "Requirement already satisfied: chardet<4,>=3.0.2 in /usr/local/lib/python3.7/dist-packages (from requests->transformers) (3.0.4)\n",
            "Requirement already satisfied: idna<3,>=2.5 in /usr/local/lib/python3.7/dist-packages (from requests->transformers) (2.10)\n",
            "Requirement already satisfied: six in /usr/local/lib/python3.7/dist-packages (from sacremoses->transformers) (1.15.0)\n",
            "Requirement already satisfied: click in /usr/local/lib/python3.7/dist-packages (from sacremoses->transformers) (7.1.2)\n",
            "Requirement already satisfied: joblib in /usr/local/lib/python3.7/dist-packages (from sacremoses->transformers) (1.1.0)\n",
            "Building wheels for collected packages: sacremoses\n",
            "  Building wheel for sacremoses (setup.py) ... \u001b[?25l\u001b[?25hdone\n",
            "  Created wheel for sacremoses: filename=sacremoses-0.0.53-py3-none-any.whl size=895260 sha256=d9497a6fddeaeaf3551967077a66713fde9373c197f73b518595f1b46bae2ead\n",
            "  Stored in directory: /root/.cache/pip/wheels/87/39/dd/a83eeef36d0bf98e7a4d1933a4ad2d660295a40613079bafc9\n",
            "Successfully built sacremoses\n",
            "Installing collected packages: pyyaml, tokenizers, sacremoses, huggingface-hub, transformers\n",
            "  Attempting uninstall: pyyaml\n",
            "    Found existing installation: PyYAML 3.13\n",
            "    Uninstalling PyYAML-3.13:\n",
            "      Successfully uninstalled PyYAML-3.13\n",
            "Successfully installed huggingface-hub-0.6.0 pyyaml-6.0 sacremoses-0.0.53 tokenizers-0.12.1 transformers-4.18.0\n"
          ]
        }
      ]
    },
    {
      "cell_type": "code",
      "source": [
        "from google.colab import drive\n",
        "drive.mount('/content/drive')"
      ],
      "metadata": {
        "colab": {
          "base_uri": "https://localhost:8080/"
        },
        "id": "NOjAsvTqZZDr",
        "outputId": "77188a0f-4241-4028-bc79-6b8a558c4f0a"
      },
      "execution_count": 3,
      "outputs": [
        {
          "output_type": "stream",
          "name": "stdout",
          "text": [
            "Mounted at /content/drive\n"
          ]
        }
      ]
    },
    {
      "cell_type": "code",
      "source": [
        "import torch\n",
        "import math\n",
        "import pandas as pd\n",
        "from sklearn.model_selection import train_test_split\n",
        "from torch.utils.data import Dataset, TensorDataset, DataLoader, random_split\n",
        "from torch.nn.utils.rnn import pad_sequence\n",
        "from tqdm import tqdm\n",
        "import numpy as np\n",
        "import os\n",
        "from sklearn.metrics import precision_score, recall_score, f1_score\n",
        "from transformers import DistilBertModel, DistilBertConfig, DistilBertTokenizer, AdamW, DistilBertForSequenceClassification\n",
        "from collections import Counter\n",
        "torch.manual_seed(42)\n",
        "np.random.seed(42)"
      ],
      "metadata": {
        "id": "yGIIM1h5ZhFE"
      },
      "execution_count": 4,
      "outputs": []
    },
    {
      "cell_type": "markdown",
      "source": [
        "# Constants\n",
        "\n",
        "Constants we will use in our experiments. These may be subjected to change as hyperparameters"
      ],
      "metadata": {
        "id": "9uTHVwwDku9W"
      }
    },
    {
      "cell_type": "code",
      "source": [
        "DISTILBERT_DROPOUT = 0.2\n",
        "DISTILBERT_ATT_DROPOUT = 0.2\n",
        "BATCH_SIZE = 16\n",
        "EPOCHS = 30\n",
        "\n",
        "# Andrew PATH\n",
        "TEST_PATH = '/content/drive/MyDrive/CSE354/random_test.csv'\n",
        "TEST_PATH_2 = '/content/drive/MyDrive/CSE354/fixed_test.csv'\n",
        "TRAIN_PATH = '/content/drive/MyDrive/CSE354/train.csv'\n",
        "VAL_PATH = '/content/drive/MyDrive/CSE354/dev.csv'\n",
        "SAVE_PATH = '/content/drive/MyDrive/CSE354/models'\n",
        "\n",
        "test_data = pd.read_csv(TEST_PATH)\n",
        "test_data_2 = pd.read_csv(TEST_PATH_2)\n",
        "train_data = pd.read_csv(TRAIN_PATH)\n",
        "# fixed_test will be used for validation\n",
        "val_data = pd.read_csv(VAL_PATH)\n",
        "\n"
      ],
      "metadata": {
        "id": "oYhi46KyZxsN"
      },
      "execution_count": 5,
      "outputs": []
    },
    {
      "cell_type": "markdown",
      "source": [
        "# Initializing Our Model\n",
        "\n",
        "Here is where we set up our DistilBERT model."
      ],
      "metadata": {
        "id": "0Hf2lT68k_OO"
      }
    },
    {
      "cell_type": "code",
      "source": [
        "class DistillBERT():\n",
        "  def __init__(self, model_name='distilbert-base-uncased'):\n",
        "    # TODO(students): start\n",
        "    self.tokenizer = DistilBertTokenizer.from_pretrained(model_name)\n",
        "    config = DistilBertConfig(dropout=DISTILBERT_DROPOUT, \n",
        "                          attention_dropout=DISTILBERT_ATT_DROPOUT, \n",
        "                          output_hidden_states=True)\n",
        "    self.model = DistilBertForSequenceClassification.from_pretrained(model_name, num_labels=3)\n",
        "    # TODO(students): end\n",
        "  def get_tokenizer_and_model(self):\n",
        "    return self.model, self.tokenizer"
      ],
      "metadata": {
        "id": "Cpbl98iflGa_"
      },
      "execution_count": 6,
      "outputs": []
    },
    {
      "cell_type": "markdown",
      "source": [
        "# DataLoader\n",
        "\n",
        "This class handles loading, preprocessing, and tokenizing the data.\n",
        "\n",
        "Each row in the dataframe contains text with some number of paragraphs, as well as a number as labels per paragraph. We add another column in the dataframe, paragraphs per document. This will be used later to test our predictions as compare paragraph-level predictions to paragraph labels, as well as document-level predictions to document labels. We also remove data without paragraph-level labels.\n",
        "\n",
        "For the labels create new columns for each.\n",
        "\n",
        "This format is largely takes inspiration from Assignment 3."
      ],
      "metadata": {
        "id": "HERiN5iOljPB"
      }
    },
    {
      "cell_type": "code",
      "source": [
        "class DatasetLoader(Dataset):\n",
        "  def __init__(self, data, tokenizer):\n",
        "    # Data is the uncleaned data, as a dataframe.\n",
        "    self.data = data\n",
        "    self.tokenizer = tokenizer\n",
        "\n",
        "  def preprocess_data(self):\n",
        "    # Combine labels into list.\n",
        "    df = self.data\n",
        "    df = df[df['Paragraph0'].notna()]\n",
        "    cols = df.iloc[:, 6:].columns\n",
        "    df['Paragraph Labels'] = [[x for x in ary if x==x] for ary in df.iloc[:,6:].to_records(index=False)]\n",
        "    \n",
        "    self.data = df\n",
        "\n",
        "  def tokenize_data(self, mode=\"paragraph\"):\n",
        "    # Tokenizing\n",
        "    tokens = []\n",
        "    labels = []\n",
        "    label_dict = {'Negative': 0,\n",
        "                  'Neutral': 1,\n",
        "                  'Positive': 2}\n",
        "    document_list = self.data['DOCUMENT']\n",
        "\n",
        "    # Tokenizes documents by paragraphs. Tokens = paragraph, labels = paragraph sentiment\n",
        "    if mode == \"paragraph\":\n",
        "      label_list = self.data['Paragraph Labels']\n",
        "      for (document, doc_labels) in tqdm(zip(document_list, label_list), total=len(document_list)):\n",
        "        paragraphs = document.split('\\n')\n",
        "        for paragraph, label in zip(paragraphs, doc_labels):\n",
        "          encoding = self.tokenizer(text=paragraph, truncation='longest_first', max_length=512, return_tensors='pt')\n",
        "          labels.append(label_dict[label])\n",
        "          tokens.append(encoding.input_ids[0]) # Might need to CUDA\n",
        "\n",
        "    # Tokenizes documents by document. Tokens = document, labels = document sentiment\n",
        "    if mode == \"document\":\n",
        "      label_list = self.data['TRUE_SENTIMENT']\n",
        "      for (document, true_label) in tqdm(zip(document_list, label_list), total=len(document_list)):\n",
        "        encoding = self.tokenizer(text=document, truncation='longest_first', max_length=512, return_tensors='pt')\n",
        "        labels.append(label_dict[true_label])\n",
        "        tokens.append(encoding.input_ids[0]) # Might need to CUDA\n",
        "\n",
        "    tokens = pad_sequence(tokens, batch_first=True)\n",
        "    labels = torch.tensor(labels)\n",
        "    labels.to(\"cuda:0\" if torch.cuda.is_available() else \"cpu\")\n",
        "    tokens.to(\"cuda:0\" if torch.cuda.is_available() else \"cpu\")\n",
        "    dataset = TensorDataset(tokens, labels)\n",
        "    return dataset\n",
        "\n",
        "  def get_data_loaders(self, mode, shuffle=True):\n",
        "    self.preprocess_data()\n",
        "    processed_dataset = self.tokenize_data(mode=mode)\n",
        "    data_loader = DataLoader(\n",
        "        processed_dataset,\n",
        "        shuffle=shuffle,\n",
        "        batch_size=BATCH_SIZE\n",
        "    )\n",
        "    return data_loader"
      ],
      "metadata": {
        "id": "swG9HzFSlil8"
      },
      "execution_count": 14,
      "outputs": []
    },
    {
      "cell_type": "code",
      "source": [
        "class Trainer():\n",
        "\n",
        "  def __init__(self, args):\n",
        "    self.train_data = args['train_data']\n",
        "    self.val_data = args['val_data']\n",
        "    self.batch_size = args['batch_size']\n",
        "    self.epochs = args['epochs']\n",
        "    self.save_path = args['save_path']\n",
        "    self.training_type = args['training_type']\n",
        "    self.device = args['device']\n",
        "    self.model_type = args['model']\n",
        "    transformer = DistillBERT()\n",
        "    self.model, self.tokenizer = transformer.get_tokenizer_and_model()\n",
        "    self.model.to(self.device)\n",
        "    self.val_preds = []\n",
        "    self.train_preds = []\n",
        "\n",
        "  def get_performance_metrics(self, preds, labels, mode=None):\n",
        "    pred_flat = preds\n",
        "    # First portion from training preds, second from val preds\n",
        "    if mode == \"training\":\n",
        "      pred_flat = np.argmax(preds, axis=1).flatten()\n",
        "      self.train_preds.extend(pred_flat)\n",
        "    if mode == \"val\":\n",
        "      pred_flat = np.argmax(preds, axis=1).flatten()\n",
        "      self.val_preds.extend(pred_flat)\n",
        "    labels_flat = labels.flatten()\n",
        "    precision = precision_score(labels_flat, pred_flat, zero_division=0, average='macro')\n",
        "    recall = recall_score(labels_flat, pred_flat, zero_division=0, average='macro')\n",
        "    f1 = f1_score(labels_flat, pred_flat, zero_division=0, average='macro')\n",
        "    return precision, recall, f1\n",
        "\n",
        "  def set_training_parameters(self):\n",
        "    \n",
        "    if self.training_type == 'frozen_layers':\n",
        "      for param in self.model.base_model.parameters():\n",
        "        param.requires_grad = False\n",
        "    elif self.training_type == 'all_training':\n",
        "      pass\n",
        "    elif self.training_type == \"top_2_training\":\n",
        "      print(\"2\")\n",
        "      for name, param in self.model.named_parameters():\n",
        "        if \"transformer\" or \"embeddings\" in name:\n",
        "          print(name)\n",
        "          param.requires_grad = False\n",
        "          if \"layer.4\" or \"layer.5\" in name:\n",
        "            param.requires_grad = True\n",
        "        else:\n",
        "          param.requires_grad = True\n",
        "\n",
        "  def train(self, data_loader, optimizer):\n",
        "    self.model.train()\n",
        "    total_recall = 0\n",
        "    total_precision = 0\n",
        "    total_f1 = 0\n",
        "    total_loss = 0\n",
        "\n",
        "    for batch_idx, (reviews, labels) in enumerate(tqdm(data_loader)):\n",
        "      self.model.zero_grad()\n",
        "      # TODO(students): start\n",
        "      output = self.model(reviews.to(self.device), labels=labels.to(self.device)) \n",
        "      loss = output.loss\n",
        "      logits = output.logits\n",
        "      with torch.no_grad():\n",
        "        precision, recall, f1 = self.get_performance_metrics(logits.cpu(), labels.cpu(), mode='training')\n",
        "      loss.backward()\n",
        "      optimizer.step()\n",
        "      total_loss += loss\n",
        "      total_recall += recall\n",
        "      total_precision += precision\n",
        "      total_f1 += f1\n",
        "      # TODO(students): end\n",
        "    precision = total_precision/len(data_loader)\n",
        "    recall = total_recall/len(data_loader)\n",
        "    f1 = total_f1/len(data_loader)\n",
        "    loss = total_loss/len(data_loader)\n",
        "\n",
        "    return precision, recall, f1, loss\n",
        "\n",
        "  def eval(self, data_loader):\n",
        "    self.model.eval()\n",
        "    total_recall = 0\n",
        "    total_precision = 0\n",
        "    total_f1 = 0\n",
        "    total_loss = 0\n",
        "\n",
        "    with torch.no_grad():\n",
        "      for (reviews, labels) in tqdm(data_loader):\n",
        "        # TODO(students): start\n",
        "        output = self.model(reviews.to(self.device), labels=labels.to(self.device)) \n",
        "        prec, rec, f1 = self.get_performance_metrics(output.logits.cpu(), labels.cpu(), mode='val')\n",
        "        total_recall += rec\n",
        "        total_precision += prec\n",
        "        total_f1 += f1\n",
        "        total_loss += output.loss\n",
        "        # TODO(students): end\n",
        "    \n",
        "    precision = total_precision/len(data_loader)\n",
        "    recall = total_recall/len(data_loader)\n",
        "    f1 = total_f1/len(data_loader)\n",
        "    loss = total_loss/len(data_loader)\n",
        "\n",
        "    return precision, recall, f1, loss\n",
        "  \n",
        "  def eval_doc(self, dataset, mode):\n",
        "    # Predictions per paragraph\n",
        "    preds = []\n",
        "    index = 0\n",
        "    if mode == \"training\":\n",
        "      preds = self.train_preds\n",
        "    if mode == \"val\":\n",
        "      preds = self.val_preds\n",
        "    df = dataset.data\n",
        "    doc_preds = [\n",
        "    label_dict = {'Negative': 0,\n",
        "                  'Neutral': 1,\n",
        "                  'Positive': 2}\n",
        "    df = df.replace({'TRUE_SENTIMENT': label_dict})\n",
        "    doc_labels = df['TRUE_SENTIMENT'].values\n",
        "    # For each document, check the number of predicted labels corresponding with its paragraphs.\n",
        "    for idx, doc in df.iterrows():\n",
        "      true_sentiment = doc['TRUE_SENTIMENT']\n",
        "      p_labels = doc['Paragraph Labels']\n",
        "      doc_paragraph_preds = []\n",
        "      # For the number of paragraphs (denoted by p_labels) per document, append the prediction list for that document\n",
        "      # based on the entire list of paragraph predictions, preds.\n",
        "      for i in range(len(p_labels)):\n",
        "        doc_paragraph_preds.append(preds[index])\n",
        "        index += 1\n",
        "      # Find the most common and append that to the document predictions.\n",
        "      c = Counter(doc_paragraph_preds)\n",
        "      doc_preds.append(c.most_common(1)[0][0])\n",
        "    self.train_preds = []\n",
        "    self.val_preds = []\n",
        "    return self.get_performance_metrics(doc_preds, doc_labels)\n",
        "    \n",
        "\n",
        "  def save_transformer(self):\n",
        "    self.model.save_pretrained(self.save_path)\n",
        "    self.tokenizer.save_pretrained(self.save_path)\n",
        "\n",
        "  def execute(self):\n",
        "    last_best = 0\n",
        "    train_dataset = DatasetLoader(self.train_data, self.tokenizer)\n",
        "    train_data_loader = train_dataset.get_data_loaders(mode=self.model_type)\n",
        "    val_dataset = DatasetLoader(self.val_data, self.tokenizer)\n",
        "    val_data_loader = val_dataset.get_data_loaders(mode=self.model_type)\n",
        "    optimizer = AdamW(self.model.parameters(), lr = 3e-5, eps = 1e-8)\n",
        "    self.set_training_parameters()\n",
        "    for epoch_i in range(0, self.epochs):\n",
        "      train_precision, train_recall, train_f1, train_loss = self.train(train_data_loader, optimizer)\n",
        "      print(f'Epoch {epoch_i + 1}: train_loss: {train_loss:.4f} train_precision: {train_precision:.4f} train_recall: {train_recall:.4f} train_f1: {train_f1:.4f}')\n",
        "      if (self.model_type == 'paragraph'):\n",
        "        doc_precision, doc_recall, doc_f1 = self.eval_doc(train_dataset, mode='training')\n",
        "        print(f'doc_precision: {doc_precision:.4f} doc_recall: {doc_recall:.4f}, doc_f1: {doc_f1:.4f}')\n",
        "      val_precision, val_recall, val_f1, val_loss = self.eval(val_data_loader)\n",
        "      print(f'Epoch {epoch_i + 1}: val_loss: {val_loss:.4f} val_precision: {val_precision:.4f} val_recall: {val_recall:.4f} val_f1: {val_f1:.4f}')\n",
        "      if val_f1 > last_best:\n",
        "        print(\"Saving model..\")\n",
        "        self.save_transformer()\n",
        "        last_best = val_f1\n",
        "        print(\"Model saved.\")"
      ],
      "metadata": {
        "id": "HhkSbKNLTrfD"
      },
      "execution_count": 18,
      "outputs": []
    },
    {
      "cell_type": "code",
      "source": [
        "import os\n",
        "import gc\n",
        "gc.collect()\n",
        "torch.cuda.empty_cache()\n",
        "os.environ['CUDA_LAUNCH_BLOCKING'] = \"1\"\n",
        "args = {}\n",
        "args['batch_size'] = BATCH_SIZE\n",
        "args['device'] = torch.device(\"cuda:0\" if torch.cuda.is_available() else \"cpu\")\n",
        "args['train_data'] = train_data\n",
        "args['val_data'] = val_data\n",
        "args['save_path'] = SAVE_PATH + '_top_2_paragraphs'\n",
        "args['epochs'] = EPOCHS\n",
        "args['training_type'] = 'top_2_training'\n",
        "args['model'] = \"paragraph\"\n",
        "print(args['device'])\n",
        "CUDA_LAUNCH_BLOCKING=1\n",
        "trainer = Trainer(args)\n",
        "\n",
        "trainer.execute()"
      ],
      "metadata": {
        "colab": {
          "base_uri": "https://localhost:8080/"
        },
        "id": "2Vj2RQ4s2XoM",
        "outputId": "524683b0-d0f3-420c-c285-b122d32fc601"
      },
      "execution_count": null,
      "outputs": [
        {
          "output_type": "stream",
          "name": "stdout",
          "text": [
            "cuda:0\n"
          ]
        },
        {
          "output_type": "stream",
          "name": "stderr",
          "text": [
            "Some weights of the model checkpoint at distilbert-base-uncased were not used when initializing DistilBertForSequenceClassification: ['vocab_layer_norm.weight', 'vocab_projector.weight', 'vocab_transform.weight', 'vocab_transform.bias', 'vocab_layer_norm.bias', 'vocab_projector.bias']\n",
            "- This IS expected if you are initializing DistilBertForSequenceClassification from the checkpoint of a model trained on another task or with another architecture (e.g. initializing a BertForSequenceClassification model from a BertForPreTraining model).\n",
            "- This IS NOT expected if you are initializing DistilBertForSequenceClassification from the checkpoint of a model that you expect to be exactly identical (initializing a BertForSequenceClassification model from a BertForSequenceClassification model).\n",
            "Some weights of DistilBertForSequenceClassification were not initialized from the model checkpoint at distilbert-base-uncased and are newly initialized: ['pre_classifier.bias', 'classifier.bias', 'pre_classifier.weight', 'classifier.weight']\n",
            "You should probably TRAIN this model on a down-stream task to be able to use it for predictions and inference.\n",
            "/usr/local/lib/python3.7/dist-packages/ipykernel_launcher.py:12: SettingWithCopyWarning: \n",
            "A value is trying to be set on a copy of a slice from a DataFrame.\n",
            "Try using .loc[row_indexer,col_indexer] = value instead\n",
            "\n",
            "See the caveats in the documentation: https://pandas.pydata.org/pandas-docs/stable/user_guide/indexing.html#returning-a-view-versus-a-copy\n",
            "  if sys.path[0] == '':\n",
            "100%|██████████| 3103/3103 [00:31<00:00, 99.37it/s]\n",
            "100%|██████████| 533/533 [00:05<00:00, 100.97it/s]\n",
            "/usr/local/lib/python3.7/dist-packages/transformers/optimization.py:309: FutureWarning: This implementation of AdamW is deprecated and will be removed in a future version. Use the PyTorch implementation torch.optim.AdamW instead, or set `no_deprecation_warning=True` to disable this warning\n",
            "  FutureWarning,\n"
          ]
        },
        {
          "output_type": "stream",
          "name": "stdout",
          "text": [
            "2\n",
            "distilbert.embeddings.word_embeddings.weight\n",
            "distilbert.embeddings.position_embeddings.weight\n",
            "distilbert.embeddings.LayerNorm.weight\n",
            "distilbert.embeddings.LayerNorm.bias\n",
            "distilbert.transformer.layer.0.attention.q_lin.weight\n",
            "distilbert.transformer.layer.0.attention.q_lin.bias\n",
            "distilbert.transformer.layer.0.attention.k_lin.weight\n",
            "distilbert.transformer.layer.0.attention.k_lin.bias\n",
            "distilbert.transformer.layer.0.attention.v_lin.weight\n",
            "distilbert.transformer.layer.0.attention.v_lin.bias\n",
            "distilbert.transformer.layer.0.attention.out_lin.weight\n",
            "distilbert.transformer.layer.0.attention.out_lin.bias\n",
            "distilbert.transformer.layer.0.sa_layer_norm.weight\n",
            "distilbert.transformer.layer.0.sa_layer_norm.bias\n",
            "distilbert.transformer.layer.0.ffn.lin1.weight\n",
            "distilbert.transformer.layer.0.ffn.lin1.bias\n",
            "distilbert.transformer.layer.0.ffn.lin2.weight\n",
            "distilbert.transformer.layer.0.ffn.lin2.bias\n",
            "distilbert.transformer.layer.0.output_layer_norm.weight\n",
            "distilbert.transformer.layer.0.output_layer_norm.bias\n",
            "distilbert.transformer.layer.1.attention.q_lin.weight\n",
            "distilbert.transformer.layer.1.attention.q_lin.bias\n",
            "distilbert.transformer.layer.1.attention.k_lin.weight\n",
            "distilbert.transformer.layer.1.attention.k_lin.bias\n",
            "distilbert.transformer.layer.1.attention.v_lin.weight\n",
            "distilbert.transformer.layer.1.attention.v_lin.bias\n",
            "distilbert.transformer.layer.1.attention.out_lin.weight\n",
            "distilbert.transformer.layer.1.attention.out_lin.bias\n",
            "distilbert.transformer.layer.1.sa_layer_norm.weight\n",
            "distilbert.transformer.layer.1.sa_layer_norm.bias\n",
            "distilbert.transformer.layer.1.ffn.lin1.weight\n",
            "distilbert.transformer.layer.1.ffn.lin1.bias\n",
            "distilbert.transformer.layer.1.ffn.lin2.weight\n",
            "distilbert.transformer.layer.1.ffn.lin2.bias\n",
            "distilbert.transformer.layer.1.output_layer_norm.weight\n",
            "distilbert.transformer.layer.1.output_layer_norm.bias\n",
            "distilbert.transformer.layer.2.attention.q_lin.weight\n",
            "distilbert.transformer.layer.2.attention.q_lin.bias\n",
            "distilbert.transformer.layer.2.attention.k_lin.weight\n",
            "distilbert.transformer.layer.2.attention.k_lin.bias\n",
            "distilbert.transformer.layer.2.attention.v_lin.weight\n",
            "distilbert.transformer.layer.2.attention.v_lin.bias\n",
            "distilbert.transformer.layer.2.attention.out_lin.weight\n",
            "distilbert.transformer.layer.2.attention.out_lin.bias\n",
            "distilbert.transformer.layer.2.sa_layer_norm.weight\n",
            "distilbert.transformer.layer.2.sa_layer_norm.bias\n",
            "distilbert.transformer.layer.2.ffn.lin1.weight\n",
            "distilbert.transformer.layer.2.ffn.lin1.bias\n",
            "distilbert.transformer.layer.2.ffn.lin2.weight\n",
            "distilbert.transformer.layer.2.ffn.lin2.bias\n",
            "distilbert.transformer.layer.2.output_layer_norm.weight\n",
            "distilbert.transformer.layer.2.output_layer_norm.bias\n",
            "distilbert.transformer.layer.3.attention.q_lin.weight\n",
            "distilbert.transformer.layer.3.attention.q_lin.bias\n",
            "distilbert.transformer.layer.3.attention.k_lin.weight\n",
            "distilbert.transformer.layer.3.attention.k_lin.bias\n",
            "distilbert.transformer.layer.3.attention.v_lin.weight\n",
            "distilbert.transformer.layer.3.attention.v_lin.bias\n",
            "distilbert.transformer.layer.3.attention.out_lin.weight\n",
            "distilbert.transformer.layer.3.attention.out_lin.bias\n",
            "distilbert.transformer.layer.3.sa_layer_norm.weight\n",
            "distilbert.transformer.layer.3.sa_layer_norm.bias\n",
            "distilbert.transformer.layer.3.ffn.lin1.weight\n",
            "distilbert.transformer.layer.3.ffn.lin1.bias\n",
            "distilbert.transformer.layer.3.ffn.lin2.weight\n",
            "distilbert.transformer.layer.3.ffn.lin2.bias\n",
            "distilbert.transformer.layer.3.output_layer_norm.weight\n",
            "distilbert.transformer.layer.3.output_layer_norm.bias\n",
            "distilbert.transformer.layer.4.attention.q_lin.weight\n",
            "distilbert.transformer.layer.4.attention.q_lin.bias\n",
            "distilbert.transformer.layer.4.attention.k_lin.weight\n",
            "distilbert.transformer.layer.4.attention.k_lin.bias\n",
            "distilbert.transformer.layer.4.attention.v_lin.weight\n",
            "distilbert.transformer.layer.4.attention.v_lin.bias\n",
            "distilbert.transformer.layer.4.attention.out_lin.weight\n",
            "distilbert.transformer.layer.4.attention.out_lin.bias\n",
            "distilbert.transformer.layer.4.sa_layer_norm.weight\n",
            "distilbert.transformer.layer.4.sa_layer_norm.bias\n",
            "distilbert.transformer.layer.4.ffn.lin1.weight\n",
            "distilbert.transformer.layer.4.ffn.lin1.bias\n",
            "distilbert.transformer.layer.4.ffn.lin2.weight\n",
            "distilbert.transformer.layer.4.ffn.lin2.bias\n",
            "distilbert.transformer.layer.4.output_layer_norm.weight\n",
            "distilbert.transformer.layer.4.output_layer_norm.bias\n",
            "distilbert.transformer.layer.5.attention.q_lin.weight\n",
            "distilbert.transformer.layer.5.attention.q_lin.bias\n",
            "distilbert.transformer.layer.5.attention.k_lin.weight\n",
            "distilbert.transformer.layer.5.attention.k_lin.bias\n",
            "distilbert.transformer.layer.5.attention.v_lin.weight\n",
            "distilbert.transformer.layer.5.attention.v_lin.bias\n",
            "distilbert.transformer.layer.5.attention.out_lin.weight\n",
            "distilbert.transformer.layer.5.attention.out_lin.bias\n",
            "distilbert.transformer.layer.5.sa_layer_norm.weight\n",
            "distilbert.transformer.layer.5.sa_layer_norm.bias\n",
            "distilbert.transformer.layer.5.ffn.lin1.weight\n",
            "distilbert.transformer.layer.5.ffn.lin1.bias\n",
            "distilbert.transformer.layer.5.ffn.lin2.weight\n",
            "distilbert.transformer.layer.5.ffn.lin2.bias\n",
            "distilbert.transformer.layer.5.output_layer_norm.weight\n",
            "distilbert.transformer.layer.5.output_layer_norm.bias\n",
            "pre_classifier.weight\n",
            "pre_classifier.bias\n",
            "classifier.weight\n",
            "classifier.bias\n"
          ]
        },
        {
          "output_type": "stream",
          "name": "stderr",
          "text": [
            "100%|██████████| 1498/1498 [20:47<00:00,  1.20it/s]\n"
          ]
        },
        {
          "output_type": "stream",
          "name": "stdout",
          "text": [
            "Epoch 1: train_loss: 0.9541 train_precision: 0.2779 train_recall: 0.3666 train_f1: 0.2786\n",
            "doc_precision: 0.3053 doc_recall: 0.3394, doc_f1: 0.3127\n"
          ]
        },
        {
          "output_type": "stream",
          "name": "stderr",
          "text": [
            "100%|██████████| 261/261 [01:16<00:00,  3.43it/s]\n"
          ]
        },
        {
          "output_type": "stream",
          "name": "stdout",
          "text": [
            "Epoch 1: val_loss: 0.9411 val_precision: 0.3458 val_recall: 0.3762 val_f1: 0.3120\n",
            "Saving model..\n",
            "Model saved.\n"
          ]
        },
        {
          "output_type": "stream",
          "name": "stderr",
          "text": [
            "100%|██████████| 1498/1498 [20:54<00:00,  1.19it/s]\n"
          ]
        },
        {
          "output_type": "stream",
          "name": "stdout",
          "text": [
            "Epoch 2: train_loss: 0.9283 train_precision: 0.3556 train_recall: 0.3984 train_f1: 0.3427\n",
            "doc_precision: 0.2975 doc_recall: 0.3288, doc_f1: 0.3035\n"
          ]
        },
        {
          "output_type": "stream",
          "name": "stderr",
          "text": [
            "100%|██████████| 261/261 [01:16<00:00,  3.42it/s]\n"
          ]
        },
        {
          "output_type": "stream",
          "name": "stdout",
          "text": [
            "Epoch 2: val_loss: 0.8923 val_precision: 0.4035 val_recall: 0.4136 val_f1: 0.3604\n",
            "Saving model..\n",
            "Model saved.\n"
          ]
        },
        {
          "output_type": "stream",
          "name": "stderr",
          "text": [
            " 75%|███████▌  | 1127/1498 [15:44<05:10,  1.19it/s]"
          ]
        }
      ]
    },
    {
      "cell_type": "code",
      "source": [
        "class Tester():\n",
        "\n",
        "  def __init__(self, args):\n",
        "    self.batch_size = args['batch_size']\n",
        "    self.save_path = args['save_path']\n",
        "    self.test_data = args['test_data']\n",
        "    self.device = args['device']\n",
        "    self.model_type = args['model']\n",
        "    transformer = DistillBERT(self.save_path)\n",
        "    self.model, self.tokenizer = transformer.get_tokenizer_and_model()\n",
        "    self.model.to(self.device)\n",
        "    self.val_preds = []\n",
        "    self.train_preds = []\n",
        "\n",
        "  def get_performance_metrics(self, preds, labels, mode=None):\n",
        "    pred_flat = preds\n",
        "    # First portion from training preds, second from val preds\n",
        "    if mode == \"training\":\n",
        "      pred_flat = np.argmax(preds, axis=1).flatten()\n",
        "      self.train_preds.extend(pred_flat)\n",
        "    if mode == \"val\":\n",
        "      pred_flat = np.argmax(preds, axis=1).flatten()\n",
        "      self.val_preds.extend(pred_flat)\n",
        "    labels_flat = labels.flatten()\n",
        "    precision = precision_score(labels_flat, pred_flat, zero_division=0, average='macro')\n",
        "    recall = recall_score(labels_flat, pred_flat, zero_division=0, average='macro')\n",
        "    f1 = f1_score(labels_flat, pred_flat, zero_division=0, average='macro')\n",
        "    return precision, recall, f1\n",
        "\n",
        "  def test(self, data_loader):\n",
        "    self.model.eval()\n",
        "    total_recall = 0\n",
        "    total_precision = 0\n",
        "    total_f1 = 0\n",
        "    total_loss = 0\n",
        "\n",
        "    with torch.no_grad():\n",
        "      for (reviews, labels) in tqdm(data_loader):\n",
        "        # TODO(students): start\n",
        "        output = self.model(reviews.to(self.device), labels=labels.to(self.device)) \n",
        "        prec, rec, f1 = self.get_performance_metrics(output.logits.cpu(), labels.cpu(), mode='val')\n",
        "        total_recall += rec\n",
        "        total_precision += prec\n",
        "        total_f1 += f1\n",
        "        total_loss += output.loss\n",
        "        # TODO(students): end\n",
        "    \n",
        "    precision = total_precision/len(data_loader)\n",
        "    recall = total_recall/len(data_loader)\n",
        "    f1 = total_f1/len(data_loader)\n",
        "    loss = total_loss/len(data_loader)\n",
        "\n",
        "    return precision, recall, f1, loss\n",
        "  def eval_doc(self, dataset, mode):\n",
        "    # Predictions per paragraph\n",
        "    preds = []\n",
        "    index = 0\n",
        "    if mode == \"training\":\n",
        "      preds = self.train_preds\n",
        "    if mode == \"val\":\n",
        "      preds = self.val_preds\n",
        "    df = dataset.data\n",
        "    doc_preds = []\n",
        "    label_dict = {'Negative': 0,\n",
        "                  'Neutral': 1,\n",
        "                  'Positive': 2}\n",
        "    df = df.replace({'TRUE_SENTIMENT': label_dict})\n",
        "    doc_labels = df['TRUE_SENTIMENT'].values\n",
        "    # For each document, check the number of predicted labels corresponding with its paragraphs.\n",
        "    for idx, doc in df.iterrows():\n",
        "      true_sentiment = doc['TRUE_SENTIMENT']\n",
        "      p_labels = doc['Paragraph Labels']\n",
        "      doc_paragraph_preds = []\n",
        "      # For the number of paragraphs (denoted by p_labels) per document, append the prediction list for that document\n",
        "      # based on the entire list of paragraph predictions, preds.\n",
        "      for i in range(len(p_labels)):\n",
        "        doc_paragraph_preds.append(preds[index])\n",
        "        index += 1\n",
        "      # Find the most common and append that to the document predictions.\n",
        "      c = Counter(doc_paragraph_preds)\n",
        "      doc_preds.append(c.most_common(1)[0][0])\n",
        "    self.train_preds = []\n",
        "    self.val_preds = []\n",
        "    return self.get_performance_metrics(doc_preds, doc_labels)\n",
        "  \n",
        "  def execute(self):\n",
        "    test_dataset = DatasetLoader(self.test_data, self.tokenizer)\n",
        "    test_data_loader = test_dataset.get_data_loaders(mode=self.model_type)\n",
        "\n",
        "    test_precision, test_recall, test_f1, test_loss = self.test(test_data_loader)\n",
        "    if (self.model_type == 'paragraph'):\n",
        "        doc_precision, doc_recall, doc_f1 = self.eval_doc(test_dataset, mode='val')\n",
        "        print(f'doc_precision: {doc_precision:.4f} doc_recall: {doc_recall:.4f}, doc_f1: {doc_f1:.4f}')\n",
        "    print()\n",
        "    print(f'test_loss: {test_loss:.4f} test_precision: {test_precision:.4f} test_recall: {test_recall:.4f} test_f1: {test_f1:.4f}')"
      ],
      "metadata": {
        "id": "NvMS7aTAE9P8"
      },
      "execution_count": 25,
      "outputs": []
    },
    {
      "cell_type": "markdown",
      "source": [
        ""
      ],
      "metadata": {
        "id": "bEKmvuunmCLx"
      }
    },
    {
      "cell_type": "code",
      "source": [
        "args = {}\n",
        "args['batch_size'] = BATCH_SIZE\n",
        "args['device'] = torch.device(\"cuda:0\" if torch.cuda.is_available() else \"cpu\")\n",
        "args['test_data'] = test_data\n",
        "args['save_path'] = SAVE_PATH + '_frozen_paragraphs'\n",
        "args['model'] = \"paragraph\"\n",
        "tester = Tester(args)\n",
        "tester.execute()\n",
        "\n",
        "args = {}\n",
        "args['batch_size'] = BATCH_SIZE\n",
        "args['device'] = torch.device(\"cuda:0\" if torch.cuda.is_available() else \"cpu\")\n",
        "args['test_data'] = test_data_2\n",
        "args['save_path'] = SAVE_PATH + '_frozen_paragraphs'\n",
        "args['model'] = 'paragraph'\n",
        "tester = Tester(args)\n",
        "tester.execute()"
      ],
      "metadata": {
        "colab": {
          "base_uri": "https://localhost:8080/"
        },
        "id": "JwQJfpjyGSX_",
        "outputId": "f235d122-020c-456e-9aaa-b7dcd758ccf3"
      },
      "execution_count": 26,
      "outputs": [
        {
          "output_type": "stream",
          "name": "stderr",
          "text": [
            "/usr/local/lib/python3.7/dist-packages/ipykernel_launcher.py:12: SettingWithCopyWarning: \n",
            "A value is trying to be set on a copy of a slice from a DataFrame.\n",
            "Try using .loc[row_indexer,col_indexer] = value instead\n",
            "\n",
            "See the caveats in the documentation: https://pandas.pydata.org/pandas-docs/stable/user_guide/indexing.html#returning-a-view-versus-a-copy\n",
            "  if sys.path[0] == '':\n",
            "100%|██████████| 527/527 [00:05<00:00, 92.21it/s]\n",
            "100%|██████████| 267/267 [01:11<00:00,  3.71it/s]\n"
          ]
        },
        {
          "output_type": "stream",
          "name": "stdout",
          "text": [
            "doc_precision: 0.2899 doc_recall: 0.3268, doc_f1: 0.3004\n",
            "\n",
            "test_loss: 0.9759 test_precision: 0.3550 test_recall: 0.4019 test_f1: 0.3648\n"
          ]
        },
        {
          "output_type": "stream",
          "name": "stderr",
          "text": [
            "/usr/local/lib/python3.7/dist-packages/ipykernel_launcher.py:12: SettingWithCopyWarning: \n",
            "A value is trying to be set on a copy of a slice from a DataFrame.\n",
            "Try using .loc[row_indexer,col_indexer] = value instead\n",
            "\n",
            "See the caveats in the documentation: https://pandas.pydata.org/pandas-docs/stable/user_guide/indexing.html#returning-a-view-versus-a-copy\n",
            "  if sys.path[0] == '':\n",
            "100%|██████████| 713/713 [00:08<00:00, 88.62it/s]\n",
            "100%|██████████| 374/374 [01:46<00:00,  3.52it/s]"
          ]
        },
        {
          "output_type": "stream",
          "name": "stdout",
          "text": [
            "doc_precision: 0.2829 doc_recall: 0.3376, doc_f1: 0.2950\n",
            "\n",
            "test_loss: 1.0302 test_precision: 0.2914 test_recall: 0.3461 test_f1: 0.3051\n"
          ]
        },
        {
          "output_type": "stream",
          "name": "stderr",
          "text": [
            "\n"
          ]
        }
      ]
    },
    {
      "cell_type": "markdown",
      "source": [
        "# DO NOT DELETE\n",
        "##Training all layer results:\n",
        "Epoch 3: train_loss: 0.9514 train_precision: 0.2719 train_recall: 0.3635 train_f1: 0.2743\n",
        "100%|██████████| 261/261 [01:09<00:00,  3.77it/s]Epoch 3: val_loss: 0.9390 val_precision: 0.1770 val_recall: 0.3678 val_f1: 0.2352\n",
        "\n",
        "##Freeze all distilbert layer results:\n",
        "Epoch 3: train_loss: 0.9435 train_precision: 0.3501 train_recall: 0.3875 train_f1: 0.3319\n",
        "100%|██████████| 261/261 [01:09<00:00,  3.75it/s]Epoch 3: val_loss: 0.9261 val_precision: 0.3844 val_recall: 0.3959 val_f1: 0.3225"
      ],
      "metadata": {
        "id": "IirZz-NerCBB"
      }
    },
    {
      "cell_type": "markdown",
      "source": [
        "#Freeze all, paragraph-level\n",
        "\n",
        "Epoch 1: train_loss: 0.9513 train_precision: 0.3261 train_recall: 0.3733 train_f1: 0.3087 doc_precision: 0.6308 doc_recall: 0.3310, doc_f1: 0.3075 Epoch 1: val_loss: 0.9316 val_precision: 0.3729 val_recall: 0.3908 val_f1: 0.3188\n",
        "\n",
        "Epoch 2: train_loss: 0.9456 train_precision: 0.3440 train_recall: 0.3835 train_f1: 0.3220 doc_precision: 0.3053 doc_recall: 0.3372, doc_f1: 0.3078 Epoch 2: val_loss: 0.9278 val_precision: 0.3724 val_recall: 0.4010 val_f1: 0.3212\n",
        "\n",
        "Epoch 3: train_loss: 0.9432 train_precision: 0.3471 train_recall: 0.3865 train_f1: 0.3273 doc_precision: 0.3018 doc_recall: 0.3336, doc_f1: 0.3045 Epoch 3: val_loss: 0.9265 val_precision: 0.3145 val_recall: 0.3879 val_f1: 0.2858\n",
        "\n",
        "Epoch 4: train_loss: 0.9399 train_precision: 0.3622 train_recall: 0.3959 train_f1: 0.3464 doc_precision: 0.3029 doc_recall: 0.3356, doc_f1: 0.3081 Epoch 4: val_loss: 0.9235 val_precision: 0.3910 val_recall: 0.4288 val_f1: 0.3953\n",
        "\n",
        "Epoch 5: train_loss: 0.9370 train_precision: 0.3673 train_recall: 0.3980 train_f1: 0.3474 doc_precision: 0.3069 doc_recall: 0.3393, doc_f1: 0.3140 Epoch 5: val_loss: 0.9217 val_precision: 0.3146 val_recall: 0.3831 val_f1: 0.2809\n",
        "\n",
        "Epoch 6: train_loss: 0.9347 train_precision: 0.3644 train_recall: 0.3979 train_f1: 0.3500 doc_precision: 0.2899 doc_recall: 0.3205, doc_f1: 0.2948 Epoch 6: val_loss: 0.9172 val_precision: 0.4016 val_recall: 0.4262 val_f1: 0.3956\n",
        "\n",
        "Epoch 7: train_loss: 0.9322 train_precision: 0.3700 train_recall: 0.4008 train_f1: 0.3540 doc_precision: 0.2979 doc_recall: 0.3290, doc_f1: 0.3045 Epoch 7: val_loss: 0.9140 val_precision: 0.4108 val_recall: 0.4226 val_f1: 0.3786\n",
        "\n",
        "Epoch 8: train_loss: 0.9312 train_precision: 0.3744 train_recall: 0.4081 train_f1: 0.3634 doc_precision: 0.2976 doc_recall: 0.3284, doc_f1: 0.3051 Epoch 8: val_loss: 0.9131 val_precision: 0.3956 val_recall: 0.4297 val_f1: 0.3977\n",
        "\n",
        "Epoch 9: train_loss: 0.9290 train_precision: 0.3731 train_recall: 0.4035 train_f1: 0.3634 doc_precision: 0.3120 doc_recall: 0.3440, doc_f1: 0.3203 Epoch 9: val_loss: 0.9129 val_precision: 0.3957 val_recall: 0.4343 val_f1: 0.4003\n",
        "\n",
        "Epoch 10: train_loss: 0.9277 train_precision: 0.3765 train_recall: 0.4070 train_f1: 0.3639 doc_precision: 0.3053 doc_recall: 0.3372, doc_f1: 0.3125 Epoch 10: val_loss: 0.9108 val_precision: 0.3964 val_recall: 0.4372 val_f1: 0.4031\n",
        "\n",
        "Underfitting when getting paragraph-level sentiments and aggregating results for the document-level task. \n",
        "\n",
        "Try different method: aggregating paragraph-level sentimeents and training against those for the document-level task\n",
        "\n",
        "Random Test:\n",
        "\n",
        "doc_precision: 0.2899 doc_recall: 0.3268, doc_f1: 0.3004\n",
        "\n",
        "test_loss: 0.9759 test_precision: 0.3550 test_recall: 0.4019 test_f1: 0.3648\n",
        "\n",
        "Fixed Test:\n",
        "\n",
        "doc_precision: 0.2829 doc_recall: 0.3376, doc_f1: 0.2950\n",
        "\n",
        "test_loss: 1.0302 test_precision: 0.2914 test_recall: 0.3461 test_f1: 0.3051"
      ],
      "metadata": {
        "id": "4eE78GfDpdIl"
      }
    },
    {
      "cell_type": "markdown",
      "source": [
        "##Freezing with document level\n",
        "\n",
        "Epoch 1: train_loss: 0.9397 train_precision: 0.2432 train_recall: 0.3585 train_f1: 0.2682\n",
        "\n",
        "Epoch 1: val_loss: 0.9041 val_precision: 0.3165 val_recall: 0.3818 val_f1: 0.3010\n",
        "\n",
        "Epoch 2: train_loss: 0.9011 train_precision: 0.3457 train_recall: 0.4023 train_f1: 0.3294\n",
        "\n",
        "Epoch 2: val_loss: 0.8884 val_precision: 0.2490 val_recall: 0.3741 val_f1: 0.2726\n",
        "\n",
        "Epoch 3: train_loss: 0.8882 train_precision: 0.3873 train_recall: 0.4049 train_f1: 0.3453\n",
        "\n",
        "Epoch 3: val_loss: 0.8920 val_precision: 0.3954 val_recall: 0.4066 val_f1: 0.3617\n",
        "\n",
        "Epoch 4: train_loss: 0.8823 train_precision: 0.3894 train_recall: 0.4104 train_f1: 0.3580\n",
        "\n",
        "Epoch 4: val_loss: 0.8755 val_precision: 0.3933 val_recall: 0.4320 val_f1: 0.3748\n",
        "\n",
        "Epoch 5: train_loss: 0.8703 train_precision: 0.4281 train_recall: 0.4438 train_f1: 0.4032\n",
        "\n",
        "Epoch 5: val_loss: 0.8597 val_precision: 0.3814 val_recall: 0.4048 val_f1: 0.3457\n",
        "\n",
        "Epoch 6: train_loss: 0.8669 train_precision: 0.4122 train_recall: 0.4303 train_f1: 0.3879\n",
        "\n",
        "Epoch 6: val_loss: 0.8577 val_precision: 0.3879 val_recall: 0.4256 val_f1: 0.3742\n",
        "\n",
        "Epoch 7: train_loss: 0.8597 train_precision: 0.4294 train_recall: 0.4579 train_f1: 0.4160\n",
        "\n",
        "Epoch 7: val_loss: 0.8629 val_precision: 0.3744 val_recall: 0.4101 val_f1: 0.3461\n",
        "\n",
        "Epoch 8: train_loss: 0.8552 train_precision: 0.4134 train_recall: 0.4379 train_f1: 0.3972\n",
        "\n",
        "Epoch 8: val_loss: 0.8445 val_precision: 0.3662 val_recall: 0.3955 val_f1: 0.3510\n",
        "\n",
        "Epoch 9: train_loss: 0.8531 train_precision: 0.4145 train_recall: 0.4414 train_f1: 0.4021\n",
        "\n",
        "Epoch 9: val_loss: 0.8600 val_precision: 0.3498 val_recall: 0.3944 val_f1: 0.3293\n",
        "\n",
        "Epoch 10: train_loss: 0.8503 train_precision: 0.4165 train_recall: 0.4454 train_f1: 0.4083\n",
        "\n",
        "Epoch 10: val_loss: 0.8485 val_precision: 0.4114 val_recall: 0.4411 val_f1: 0.4082\n",
        "\n",
        "Epoch 11: train_loss: 0.8471 train_precision: 0.4205 train_recall: 0.4560 train_f1: 0.4155\n",
        "\n",
        "Epoch 11: val_loss: 0.8479 val_precision: 0.3819 val_recall: 0.4182 val_f1: 0.3858\n",
        "\n",
        "Epoch 12: train_loss: 0.8432 train_precision: 0.4247 train_recall: 0.4597 train_f1: 0.4209\n",
        "\n",
        "Epoch 12: val_loss: 0.8417 val_precision: 0.4143 val_recall: 0.4398 val_f1: 0.3997\n",
        "\n",
        "Epoch 13: train_loss: 0.8400 train_precision: 0.4215 train_recall: 0.4530 train_f1: 0.4187\n",
        "\n",
        "Epoch 13: val_loss: 0.8441 val_precision: 0.4032 val_recall: 0.4193 val_f1: 0.3717\n",
        "\n",
        "Epoch 14: train_loss: 0.8357 train_precision: 0.4377 train_recall: 0.4671 train_f1: 0.4332\n",
        "\n",
        "Epoch 14: val_loss: 0.8413 val_precision: 0.4155 val_recall: 0.4288 val_f1: 0.3897\n",
        "\n",
        "Epoch 15: train_loss: 0.8344 train_precision: 0.4242 train_recall: 0.4576 train_f1: 0.4205\n",
        "\n",
        "Epoch 15: val_loss: 0.8425 val_precision: 0.3830 val_recall: 0.4198 val_f1: 0.3875\n",
        "\n",
        "Epoch 16: train_loss: 0.8322 train_precision: 0.4267 train_recall: 0.4566 train_f1: 0.4202\n",
        "\n",
        "Epoch 16: val_loss: 0.8495 val_precision: 0.3905 val_recall: 0.4222 val_f1: 0.3869\n",
        "\n",
        "Epoch 17: train_loss: 0.8331 train_precision: 0.4345 train_recall: 0.4654 train_f1: 0.4301\n",
        "\n",
        "Epoch 17: val_loss: 0.8310 val_precision: 0.4280 val_recall: 0.4512 val_f1: 0.4188\n",
        "\n",
        "Epoch 18: train_loss: 0.8318 train_precision: 0.4294 train_recall: 0.4607 train_f1: 0.4269\n",
        "\n",
        "Epoch 18: val_loss: 0.8331 val_precision: 0.3857 val_recall: 0.4157 val_f1: 0.3730\n",
        "\n",
        "Epoch 19: train_loss: 0.8271 train_precision: 0.4495 train_recall: 0.4756 train_f1: 0.4418\n",
        "\n",
        "Epoch 19: val_loss: 0.8408 val_precision: 0.3931 val_recall: 0.4184 val_f1: 0.3771\n",
        "\n",
        "Epoch 20: train_loss: 0.8273 train_precision: 0.4337 train_recall: 0.4653 train_f1: 0.4313\n",
        "\n",
        "Epoch 20: val_loss: 0.8325 val_precision: 0.4216 val_recall: 0.4443 val_f1: 0.4200\n",
        "\n",
        "Epoch 21: train_loss: 0.8237 train_precision: 0.4243 train_recall: 0.4590 train_f1: 0.4233\n",
        "\n",
        "Epoch 21: val_loss: 0.8394 val_precision: 0.4127 val_recall: 0.4473 val_f1: 0.4106\n",
        "\n",
        "Epoch 22: train_loss: 0.8229 train_precision: 0.4390 train_recall: 0.4720 train_f1: 0.4350\n",
        "\n",
        "Epoch 22: val_loss: 0.8322 val_precision: 0.4225 val_recall: 0.4555 val_f1: 0.4256\n",
        "\n",
        "Epoch 23: train_loss: 0.8245 train_precision: 0.4396 train_recall: 0.4698 train_f1: 0.4360\n",
        "\n",
        "Epoch 23: val_loss: 0.8372 val_precision: 0.4300 val_recall: 0.4553 val_f1: 0.4163\n",
        "\n",
        "Epoch 24: train_loss: 0.8224 train_precision: 0.4477 train_recall: 0.4789 train_f1: 0.4439\n",
        "\n",
        "Epoch 24: val_loss: 0.8433 val_precision: 0.4178 val_recall: 0.4265 val_f1: 0.3902\n",
        "\n",
        "Epoch 25: train_loss: 0.8187 train_precision: 0.4292 train_recall: 0.4617 train_f1: 0.4259\n",
        "\n",
        "Epoch 25: val_loss: 0.8488 val_precision: 0.4251 val_recall: 0.4510 val_f1: 0.4186\n"
      ],
      "metadata": {
        "id": "7JbY872_CIMo"
      }
    },
    {
      "cell_type": "markdown",
      "source": [
        "Best Model from document-level on random:\n",
        "\n",
        "test_loss: 0.9830 test_precision: 0.3650 test_recall: 0.3998 test_f1: 0.3536\n",
        "\n",
        "Best model from document-elvel on fixed:\n",
        "\n",
        "test_loss: 1.0553 test_precision: 0.3034 test_recall: 0.3533 test_f1: 0.2956"
      ],
      "metadata": {
        "id": "EDubOaD7Keo-"
      }
    },
    {
      "cell_type": "markdown",
      "source": [
        "#All training with document level\n",
        "\n",
        "Epoch 1: train_loss: 0.9093 train_precision: 0.3208 train_recall: 0.4083 train_f1: 0.3311\n",
        "\n",
        "Epoch 1: val_loss: 0.8463 val_precision: 0.4232 val_recall: 0.4522 val_f1: 0.4182\n",
        "\n",
        "Epoch 2: train_loss: 0.8306 train_precision: 0.4340 train_recall: 0.4654 train_f1: 0.4250\n",
        "\n",
        "Epoch 2: val_loss: 0.8293 val_precision: 0.4791 val_recall: 0.5138 val_f1: 0.4682\n",
        "\n",
        "Epoch 3: train_loss: 0.7256 train_precision: 0.4960 train_recall: 0.5365 train_f1: 0.4994\n",
        "\n",
        "Epoch 3: val_loss: 0.8873 val_precision: 0.4648 val_recall: 0.4954 val_f1: 0.4565\n",
        "\n",
        "Epoch 4: train_loss: 0.5640 train_precision: 0.6594 train_recall: 0.6608 train_f1: 0.6387\n",
        "\n",
        "Epoch 4: val_loss: 0.9463 val_precision: 0.4286 val_recall: 0.4519 val_f1: 0.4242\n",
        "\n",
        "Epoch 5: train_loss: 0.3753 train_precision: 0.7902 train_recall: 0.7897 train_f1: 0.7693\n",
        "\n",
        "Epoch 5: val_loss: 1.1243 val_precision: 0.4412 val_recall: 0.4527 val_f1: 0.4301\n",
        "\n",
        "Epoch 6: train_loss: 0.2132 train_precision: 0.8868 train_recall: 0.8858 train_f1: 0.8760\n",
        "\n",
        "Epoch 6: val_loss: 1.4082 val_precision: 0.4985 val_recall: 0.5038 val_f1: 0.4756\n",
        "\n",
        "Epoch 7: train_loss: 0.1477 train_precision: 0.9352 train_recall: 0.9290 train_f1: 0.9244\n",
        "\n",
        "Epoch 7: val_loss: 1.6487 val_precision: 0.4457 val_recall: 0.4684 val_f1: 0.4340\n",
        "\n",
        "On Random:\n",
        "test_loss: 0.9749 test_precision: 0.3049 test_recall: 0.3679 test_f1: 0.2658\n",
        "\n",
        "On fixed: \n",
        "test_loss: 1.0114 test_precision: 0.1981 test_recall: 0.3415 test_f1: 0.2266"
      ],
      "metadata": {
        "id": "rJVSfXeAThzi"
      }
    },
    {
      "cell_type": "markdown",
      "source": [
        "#Top 2 document level\n",
        "\n",
        "Epoch 1: train_loss: 0.9279 train_precision: 0.2575 train_recall: 0.3741 train_f1: 0.2849\n",
        "\n",
        "Epoch 1: val_loss: 0.9115 val_precision: 0.2032 val_recall: 0.3775 val_f1: 0.2596\n",
        "\n",
        "Epoch 2: train_loss: 0.8768 train_precision: 0.3812 \n",
        "\n",
        "Epoch 2: val_loss: 0.8314 val_precision: 0.4610 val_recall: 0.4863 val_f1: 0.4463\n",
        "\n",
        "Epoch 3: train_loss: 0.8121 train_precision: 0.4380 train_recall: 0.4699 train_f1: 0.4291\n",
        "\n",
        "Epoch 3: val_loss: 0.8254 val_precision: 0.4504 val_recall: 0.4885 val_f1: 0.4520\n",
        "\n",
        "Epoch 4: train_loss: 0.6867 train_precision: 0.5226 train_recall: 0.5542 train_f1: 0.5212\n",
        "\n",
        "Epoch 4: val_loss: 0.9862 val_precision: 0.4077 val_recall: 0.4003\n",
        "\n",
        "Random?\n",
        "test_loss: 0.9431 test_precision: 0.3592 test_recall: 0.4100 test_f1: 0.3695\n",
        "\n",
        "Fixed\n",
        "test_loss: 1.0227 test_precision: 0.3248 test_recall: 0.3837 test_f1: 0.3398"
      ],
      "metadata": {
        "id": "giMZpjrWA64B"
      }
    }
  ]
}