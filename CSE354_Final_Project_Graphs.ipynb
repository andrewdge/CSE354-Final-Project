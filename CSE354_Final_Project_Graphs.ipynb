{
  "nbformat": 4,
  "nbformat_minor": 0,
  "metadata": {
    "colab": {
      "name": "CSE354-Final-Project-Graphs.ipynb",
      "provenance": [],
      "authorship_tag": "ABX9TyO5SG78LkiGIAVuwoZME/1t",
      "include_colab_link": true
    },
    "kernelspec": {
      "name": "python3",
      "display_name": "Python 3"
    },
    "language_info": {
      "name": "python"
    }
  },
  "cells": [
    {
      "cell_type": "markdown",
      "metadata": {
        "id": "view-in-github",
        "colab_type": "text"
      },
      "source": [
        "<a href=\"https://colab.research.google.com/github/andrewdge/CSE354-Final-Project/blob/main/CSE354_Final_Project_Graphs.ipynb\" target=\"_parent\"><img src=\"https://colab.research.google.com/assets/colab-badge.svg\" alt=\"Open In Colab\"/></a>"
      ]
    },
    {
      "cell_type": "markdown",
      "source": [
        "# Freeze all, paragraph-level\n",
        "Random Test: \n",
        "doc_precision: 0.2899 doc_recall: 0.3268 doc_f1: 0.3004 \n",
        "\n",
        "Fixed Test:\n",
        "doc_precision: 0.2829 doc_recall: 0.3376 doc_f1: 0.2950 \n",
        "\n",
        "#Freezing with document level\n",
        "Random Test:\n",
        "doc_precision: 0.3650 doc_recall: 0.3998 doc_f1: 0.3536\n",
        "\n",
        "Fixed Test:\n",
        "doc_precision: 0.3034 doc_recall: 0.3533 doc_f1: 0.2956\n",
        "\n",
        "#All training with document level\n",
        "Random Test: \n",
        "doc_precision: 0.3049 doc_recall: 0.3679 doc_f1: 0.2658\n",
        "\n",
        "Fixed Test: \n",
        "doc_precision: 0.1981 doc_recall: 0.3415 doc_f1: 0.2266\n",
        "\n",
        "#Top 2 document level\n",
        "Random Test:\n",
        "doc_precision: 0.3592 doc_recall: 0.4100 doc_f1: 0.3695\n",
        "\n",
        "Fixed Test:\n",
        "doc_precision: 0.3248 doc_recall: 0.3837 doc_f1: 0.3398"
      ],
      "metadata": {
        "id": "PV1T7NNevrMt"
      }
    },
    {
      "cell_type": "code",
      "source": [
        "import pandas as pd\n",
        "import seaborn as sns\n",
        "import numpy as np\n",
        "import matplotlib.pyplot as plt"
      ],
      "metadata": {
        "id": "6v-Up2sLxXEw"
      },
      "execution_count": 1,
      "outputs": []
    },
    {
      "cell_type": "code",
      "source": [
        ""
      ],
      "metadata": {
        "id": "cI3qT6dbxkeI"
      },
      "execution_count": null,
      "outputs": []
    }
  ]
}